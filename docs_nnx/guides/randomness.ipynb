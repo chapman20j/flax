{
 "cells": [
  {
   "cell_type": "markdown",
   "metadata": {},
   "source": [
    "# Randomness\n",
    "\n",
    "Random state handling in Flax NNX was radically simplified compared to systems like Haiku and Flax Linen because Flax NNX _defines the random state as an object state_. In essence, this means that in Flax NNX, the random state is: 1) just another type of state; 2) stored in `nnx.Variable`s; and 3) held by the models themselves.\n",
    "\n",
    "The Flax NNX [pseudorandom number generator (PRNG)](https://flax.readthedocs.io/en/latest/glossary.html#term-RNG-sequences) system has the following main characteristics:\n",
    "\n",
    "- It is **explicit**.\n",
    "- It is **order-based**.\n",
    "- It uses **dynamic counters**.\n",
    "\n",
    "This is a bit different from [Flax Linen's PRNG system](https://flax.readthedocs.io/en/latest/guides/flax_fundamentals/rng_guide.html), which is `(path + order)`-based, and uses static counters.\n",
    "\n",
    "> **Note:** To learn more about random number generation in JAX, the `jax.random` API, and PRNG-generated sequences, check out this [JAX PRNG tutorial](https://jax.readthedocs.io/en/latest/random-numbers.html).\n",
    "\n",
    "Let’ start with some necessary imports:"
   ]
  },
  {
   "cell_type": "code",
   "execution_count": 3,
   "metadata": {},
   "outputs": [],
   "source": [
    "from flax import nnx\n",
    "import jax\n",
    "from jax import random, numpy as jnp"
   ]
  },
  {
   "cell_type": "markdown",
   "metadata": {},
   "source": [
    "## `Rngs`, `RngStream`, and `RngState`\n",
    "\n",
    "In Flax NNX, the `nnx.Rngs` type is the primary convenience API for managing the random state(s). Following Flax Linen's footsteps, `nnx.Rngs` have the ability to create multiple named PRNG key [streams](https://jax.readthedocs.io/en/latest/jep/263-prng.html), each with its own state, for the purpose of having tight control over randomness in the context of [JAX transformations (transforms)](https://jax.readthedocs.io/en/latest/key-concepts.html#transformations).\n",
    "\n",
    "Here are the main PRNG-related types in Flax NNX:\n",
    "\n",
    "* **`nnx.Rngs`**: The main user interface. It defines a set of named `nnx.RngStream` objects.\n",
    "* **`nnx.RngStream`**: An object that can generate a stream of PRNG keys. It holds a root `key` and a `count` inside an `nnx.RngKey` and `nnx.RngCount` `nnx.Variable`s, respectively. When a new key is generated, the count is incremented.\n",
    "* **`nnx.RngState`**: The base type for all RNG-related states.\n",
    "  * **`nnx.RngKey`**: NNX Variable type for holding PRNG keys. It includes a `tag` attribute containing the name of the PRNG key stream.\n",
    "  * **`nnx.RngCount`**: NNX Variable type for holding PRNG counts. It includes a `tag` attribute containing the PRNG key stream name.\n",
    "\n",
    "To create an `nnx.Rngs` object you can simply pass an integer seed or `jax.random.key` instance to any keyword argument of your choice in the constructor.\n",
    "\n",
    "Here's an example:"
   ]
  },
  {
   "cell_type": "code",
   "execution_count": 4,
   "metadata": {},
   "outputs": [
    {
     "data": {
      "text/html": [
       "<script> (()=>{ if (customElements.get('treescope-container') === undefined) { class TreescopeContainer extends HTMLElement { constructor() { super(); this.attachShadow({mode: \"open\"}); this.defns = {}; this.state = {}; } } customElements.define(\"treescope-container\", TreescopeContainer); } if (customElements.get('treescope-run-here') === undefined) { class RunHere extends HTMLElement { constructor() { super() } connectedCallback() { const run = child => { const fn = new Function(child.textContent); child.textContent = \"\"; fn.call(this); this.remove(); }; const child = this.querySelector(\"script\"); if (child) { run(child); } else { new MutationObserver(()=>{ run(this.querySelector(\"script\")); }).observe(this, {childList: true}); } } } customElements.define(\"treescope-run-here\", RunHere); } })(); </script> <treescope-container class=\"treescope_out_a982bbde31764ce785b0e094c40edf48\" style=\"display:block\"></treescope-container> <treescope-run-here><script type=\"application/octet-stream\"> const root = ( Array.from(document.getElementsByClassName( \"treescope_out_a982bbde31764ce785b0e094c40edf48\")) .filter((elt) => !elt.dataset.setup) )[0]; root.dataset.setup = 1; const msg = document.createElement(\"span\"); msg.style = \"color: #cccccc; font-family: monospace;\"; msg.textContent = \"(Loading...)\"; root.state.loadingMsg = msg; root.shadowRoot.appendChild(msg); root.state.chain = new Promise((resolve, reject) => { const observer = new IntersectionObserver((entries) => { for (const entry of entries) { if (entry.isIntersecting) { resolve(); observer.disconnect(); return; } } }, {rootMargin: \"1000px\"}); window.setTimeout(() => { observer.observe(root); }, 0); }); root.state.deferring = false; const _insertNode = (node) => { for (let oldScript of node.querySelectorAll(\"script\")) { let newScript = document.createElement(\"script\"); newScript.type = oldScript.type; newScript.textContent = oldScript.textContent; oldScript.parentNode.replaceChild(newScript, oldScript); } if (root.state.loadingMsg) { root.state.loadingMsg.remove(); root.state.loadingMsg = null; } root.shadowRoot.appendChild(node); }; root.defns.insertContent = ((contentNode, compressed) => { if (compressed) { root.state.deferring = true; } if (root.state.deferring) { root.state.chain = (async () => { await root.state.chain; if (compressed) { const encoded = contentNode.textContent; const blob = new Blob([ Uint8Array.from(atob(encoded), (m) => m.codePointAt(0)) ]); const reader = blob.stream().pipeThrough( new DecompressionStream(\"deflate\") ).pipeThrough( new TextDecoderStream(\"utf-8\") ).getReader(); const parts = []; while (true) { const step = await reader.read(); if (step.done) { break; } parts.push(step.value); } const tpl = document.createElement('template'); tpl.innerHTML = parts.join(\"\"); _insertNode(tpl.content); } else { _insertNode(contentNode.content); } })(); } else { _insertNode(contentNode.content); } }); </script></treescope-run-here><div style=\"display:none\"> <script type=\"application/octet-stream\" >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</script> <treescope-run-here><script type=\"application/octet-stream\"> const root = ( Array.from(document.getElementsByClassName( \"treescope_out_a982bbde31764ce785b0e094c40edf48\")) .filter((elt) => !elt.dataset['step0']) )[0]; root.dataset['step0'] = 1; root.defns.insertContent( this.parentNode.querySelector('script[type=\"application/octet-stream\"]'), true ); this.parentNode.remove(); </script></treescope-run-here> </div>"
      ],
      "text/plain": [
       "<IPython.core.display.HTML object>"
      ]
     },
     "metadata": {},
     "output_type": "display_data"
    },
    {
     "data": {
      "text/html": [
       "<div style=\"display:none\"> <script type=\"application/octet-stream\" >eNrtVk1vm0AQvfdXrIiUQpMQbPAHtoPUJq2USw/toYcospbdwabZ7NJlncaq8t87C7ZjUpwPqbnFB+Nl3ryZN7sPPOH5DSnNUsCJw/OyEHQ5IlJJcEjOT5xM6SmHDLQGPg1pyGmWddNhFkVBbzCMgxC6naAfx0FAad9JJmVBJX5bvsRnSmA6U9fXIM309xzkFG4RwIGPpDKunynBaSpgKhWH0ZyWbiJoCiJpRqZGzWYCqpwRmwO7Au555INH/pCqxojs0eozJneT47p61QphgpallbFFh23WVSa5LBaGmGWB4iveVN06rTmrFjBYl08mx1Vys0wtmKaphhunLdQ6iwfIKoZwQYvSBveFGaOoerAPcfcce6QF9B5HVvXzPvlJb/2PWtNlK64i2wDXkCtY2uqZXu7PzNj1dlA/Qbiz+W2Rs3uRDy6rvXpEeiOW4z1p8LSyeS64Bvlo3Emqmbiud0h4dRCamj2ibkCjKXI5G727CEhwuaPN5gVdlUxeYK3eIOh0eDTIgEHU69E4yoad3pCHWS+CeLBlrZ3HzXa92WQ3WOtZ5NKEXa9twC9tMu4EjAfdQUj7LOp3wzjN0sGQppzHEEf9sLXJN+u9We//WK/zStaL+9AZdAMWDlnUzYY06LMMUqDDgEIvCl/PekYDlEwVcKQX8mgO2r61mM6LtTFoUYicUZMreayYAXNUYg69dhKmZIkoqmdgznlJTsiF8/z39CFxnv/k2QY/+QRoMD812MtxLYMrppUyKMLM89JHSd9w+RW973pjspKKs1qBVnD/1wL08jsIYEZp1/E345zasPNP6qnAA2CLrNY+szeqMkYvAPGbiAY8Mgx+5GbuNtI3pJmmM/s8qftZ2J8+w70xcLZaflkhrIY12scdBclP7fnfENu40sQVYEiOfMEYL5P7zfUFyJmZ492DA/uXx+LqIII3zLj8LMD+/LQ8R/J19kV+iQVsTqkWmsEZOmPnDPesMxxyQB6k18vGWDZsfpbrcl27UoYJ91EN1+hjO4S75k60DtmzTqksgCZp8cdfWXS5HQ==</script> <treescope-run-here><script type=\"application/octet-stream\"> const root = ( Array.from(document.getElementsByClassName( \"treescope_out_a982bbde31764ce785b0e094c40edf48\")) .filter((elt) => !elt.dataset['step1']) )[0]; root.dataset['step1'] = 1; root.defns.insertContent( this.parentNode.querySelector('script[type=\"application/octet-stream\"]'), true ); this.parentNode.remove(); </script></treescope-run-here> </div>"
      ],
      "text/plain": [
       "<IPython.core.display.HTML object>"
      ]
     },
     "metadata": {},
     "output_type": "display_data"
    }
   ],
   "source": [
    "rngs = nnx.Rngs(params=0, dropout=random.key(1))\n",
    "nnx.display(rngs)"
   ]
  },
  {
   "cell_type": "markdown",
   "metadata": {},
   "source": [
    "Notice that the `key` and `count` `nnx.Variable`s contain the PRNG key stream name in a `tag` attribute. This is primarily used for filtering as we'll see later.\n",
    "\n",
    "To generate new keys, you can access one of the streams and use its `__call__` method with no arguments. This will return a new key by using `random.fold_in` with the current `key` and `count`. The `count` is then incremented so that subsequent calls will return new keys."
   ]
  },
  {
   "cell_type": "code",
   "execution_count": 5,
   "metadata": {},
   "outputs": [
    {
     "data": {
      "text/html": [
       "<script> (()=>{ if (customElements.get('treescope-container') === undefined) { class TreescopeContainer extends HTMLElement { constructor() { super(); this.attachShadow({mode: \"open\"}); this.defns = {}; this.state = {}; } } customElements.define(\"treescope-container\", TreescopeContainer); } if (customElements.get('treescope-run-here') === undefined) { class RunHere extends HTMLElement { constructor() { super() } connectedCallback() { const run = child => { const fn = new Function(child.textContent); child.textContent = \"\"; fn.call(this); this.remove(); }; const child = this.querySelector(\"script\"); if (child) { run(child); } else { new MutationObserver(()=>{ run(this.querySelector(\"script\")); }).observe(this, {childList: true}); } } } customElements.define(\"treescope-run-here\", RunHere); } })(); </script> <treescope-container class=\"treescope_out_bac993102f82464db928d87121b775ab\" style=\"display:block\"></treescope-container> <treescope-run-here><script type=\"application/octet-stream\"> const root = ( Array.from(document.getElementsByClassName( \"treescope_out_bac993102f82464db928d87121b775ab\")) .filter((elt) => !elt.dataset.setup) )[0]; root.dataset.setup = 1; const msg = document.createElement(\"span\"); msg.style = \"color: #cccccc; font-family: monospace;\"; msg.textContent = \"(Loading...)\"; root.state.loadingMsg = msg; root.shadowRoot.appendChild(msg); root.state.chain = new Promise((resolve, reject) => { const observer = new IntersectionObserver((entries) => { for (const entry of entries) { if (entry.isIntersecting) { resolve(); observer.disconnect(); return; } } }, {rootMargin: \"1000px\"}); window.setTimeout(() => { observer.observe(root); }, 0); }); root.state.deferring = false; const _insertNode = (node) => { for (let oldScript of node.querySelectorAll(\"script\")) { let newScript = document.createElement(\"script\"); newScript.type = oldScript.type; newScript.textContent = oldScript.textContent; oldScript.parentNode.replaceChild(newScript, oldScript); } if (root.state.loadingMsg) { root.state.loadingMsg.remove(); root.state.loadingMsg = null; } root.shadowRoot.appendChild(node); }; root.defns.insertContent = ((contentNode, compressed) => { if (compressed) { root.state.deferring = true; } if (root.state.deferring) { root.state.chain = (async () => { await root.state.chain; if (compressed) { const encoded = contentNode.textContent; const blob = new Blob([ Uint8Array.from(atob(encoded), (m) => m.codePointAt(0)) ]); const reader = blob.stream().pipeThrough( new DecompressionStream(\"deflate\") ).pipeThrough( new TextDecoderStream(\"utf-8\") ).getReader(); const parts = []; while (true) { const step = await reader.read(); if (step.done) { break; } parts.push(step.value); } const tpl = document.createElement('template'); tpl.innerHTML = parts.join(\"\"); _insertNode(tpl.content); } else { _insertNode(contentNode.content); } })(); } else { _insertNode(contentNode.content); } }); </script></treescope-run-here><div style=\"display:none\"> <script type=\"application/octet-stream\" >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</script> <treescope-run-here><script type=\"application/octet-stream\"> const root = ( Array.from(document.getElementsByClassName( \"treescope_out_bac993102f82464db928d87121b775ab\")) .filter((elt) => !elt.dataset['step0']) )[0]; root.dataset['step0'] = 1; root.defns.insertContent( this.parentNode.querySelector('script[type=\"application/octet-stream\"]'), true ); this.parentNode.remove(); </script></treescope-run-here> </div>"
      ],
      "text/plain": [
       "<IPython.core.display.HTML object>"
      ]
     },
     "metadata": {},
     "output_type": "display_data"
    },
    {
     "data": {
      "text/html": [
       "<div style=\"display:none\"> <script type=\"application/octet-stream\" >eNrtVktP20AQvvdXrIxE7QLGiW2wk2CphVbi0kN76AGhaL07TlyWXXe9oUQV/72zdh6EOjykciOH2Ov55vHNzrf2iJc3pDZzAScOL+tK0PmASCXBISU/cQqlxxwK0Br4OE2DMAj7cXjcD6KgoCmjcdFnDI4RktDYyUZ1RSX+23iZz5RAd6aur0Ga8e8pyDHcIoADH0hlXL9QgtNcwFgqDoMprd1M0BxEtmkZGzWZCGh8BmwK7Aq455EPHvlDmhwDskOb35DcjQ7b7E0phAla15bGvXBYZptlVMpqZoiZV0i+iZurW6fTZ1ECGtv02eiwcd5M0xKmea7hxukydfbiAbKxIVzQqrbGXWGGSKpt7EPcOsYO6QC9x5Y19bzPftJb/6PWdN6Ja4KtgEvIFcxt9kLPdydm6HpbQj8RcGvx90lO1iQfXBZ79Qj1DVuJz6TBaWXTUnAN8lG7kzU9cV1vn/BmEDY5e0TdgEZRlHIyeHcRkOByS5mbF1RVNnqBtI6KIk1p0CuSPo1iGqU8pWERxRDxgMZpuJbW1nGzVa822e0t+cxKacK+19XglxZJ4ahgLI9CCPOIBlEaRpTHSRgdp8lxDGlnkW/Se5Pe/5Fe73WkF+XJURIl7AhnOYoZJL047adhwBIIwjDvvZ70jAaomargQM/kwRS0fWsxXVZLYdCqEiWjplTyUDED5qBGH3rtZEzJGlFUT8Cc85qckAvn+e/pfeI8/+S5D37yBLgPfrKxl8OWBldMK2WQhJmWtY+UvuHyK2rf9YZkQRV7tQAt4P6vGej5dxDAjNKu46/aObZm5x/XU4EDYJMs1j6zD5o0Rs8A8SuLBhwZBj9KM3U33FdBC00n9jxp65nZW5/h3hg4Wyy/LBCWwxLt446C5Kd2/leBrV1p4gowpMR4wRAvo/Xm+gLkxEzx6d6e/eSxuNaI4FVkXH4WYG8/zc8x+NL7orzEBNanVjPN4AyVsbWHO1YZDtkjD9zb5UZbVtH8otT1MnfDDB3WVg3XqGPbhLvNnehssmeV0kgARdKhj7/xXLk3</script> <treescope-run-here><script type=\"application/octet-stream\"> const root = ( Array.from(document.getElementsByClassName( \"treescope_out_bac993102f82464db928d87121b775ab\")) .filter((elt) => !elt.dataset['step1']) )[0]; root.dataset['step1'] = 1; root.defns.insertContent( this.parentNode.querySelector('script[type=\"application/octet-stream\"]'), true ); this.parentNode.remove(); </script></treescope-run-here> </div>"
      ],
      "text/plain": [
       "<IPython.core.display.HTML object>"
      ]
     },
     "metadata": {},
     "output_type": "display_data"
    }
   ],
   "source": [
    "params_key = rngs.params()\n",
    "dropout_key = rngs.dropout()\n",
    "\n",
    "nnx.display(rngs)"
   ]
  },
  {
   "cell_type": "markdown",
   "metadata": {},
   "source": [
    "Note that the `key` attribute does not change when new PRNG keys are generated."
   ]
  },
  {
   "cell_type": "markdown",
   "metadata": {},
   "source": [
    "### Using random state with flax Modules.\n",
    "\n",
    "Almost all flax Modules require a random state for initialization. In a `Linear` layer, for example, we need to sample the weights and biases from the appropriate Normal distribution. Random state is provided using the `rngs` keyword argument at initialization."
   ]
  },
  {
   "cell_type": "code",
   "execution_count": 6,
   "metadata": {},
   "outputs": [],
   "source": [
    "linear = nnx.Linear(20, 10, rngs=rngs)"
   ]
  },
  {
   "cell_type": "markdown",
   "metadata": {},
   "source": [
    "Specifically, this will use the RngSteam `rngs.params` for weight initialization. The `params` stream is also used for initialization of `nnx.Conv`, `nnx.ConvTranspose`, and `nnx.Embed`."
   ]
  },
  {
   "cell_type": "markdown",
   "metadata": {},
   "source": [
    "The `nnx.Dropout` module also requires a random state, but it requires this state at *call* time rather than initialization. Once again, we can pass it random state using the `rngs` keyword argument."
   ]
  },
  {
   "cell_type": "code",
   "execution_count": 7,
   "metadata": {},
   "outputs": [],
   "source": [
    "dropout = nnx.Dropout(0.5)"
   ]
  },
  {
   "cell_type": "code",
   "execution_count": 8,
   "metadata": {},
   "outputs": [
    {
     "data": {
      "text/plain": [
       "Array([2., 0., 2., 2.], dtype=float32)"
      ]
     },
     "execution_count": 8,
     "metadata": {},
     "output_type": "execute_result"
    }
   ],
   "source": [
    "dropout(jnp.ones(4), rngs=rngs)"
   ]
  },
  {
   "cell_type": "markdown",
   "metadata": {},
   "source": [
    "The `nnx.Dropout` layer will use the rng's `dropout` stream. This also applies to Modules that use `Dropout` as a sub-Module, like `nnx.MultiHeadAttention`."
   ]
  },
  {
   "cell_type": "markdown",
   "metadata": {},
   "source": [
    "To summarize, there are only two standard PRNG key stream names used by Flax NNX's built-in layers, shown in the table below:\n",
    "\n",
    "| PRNG key stream name | Description                                   |\n",
    "|----------------------|-----------------------------------------------|\n",
    "| `params`             | Used for parameter initialization             |\n",
    "| `dropout`            | Used by `nnx.Dropout` to create dropout masks |"
   ]
  },
  {
   "cell_type": "markdown",
   "metadata": {},
   "source": [
    "### Default PRNG key stream\n",
    "\n",
    "One of the downsides of having named streams is that the user needs to know all the possible names that a model will use when creating the `nnx.Rngs` object. While this could be solved with some documentation, Flax NNX provides a `default` stream that can be\n",
    "be used as a fallback when a stream is not found. To use the default PRNG key stream, you can simply pass an integer seed or `jax.random.key` as the first positional argument."
   ]
  },
  {
   "cell_type": "code",
   "execution_count": 9,
   "metadata": {},
   "outputs": [
    {
     "data": {
      "text/html": [
       "<script> (()=>{ if (customElements.get('treescope-container') === undefined) { class TreescopeContainer extends HTMLElement { constructor() { super(); this.attachShadow({mode: \"open\"}); this.defns = {}; this.state = {}; } } customElements.define(\"treescope-container\", TreescopeContainer); } if (customElements.get('treescope-run-here') === undefined) { class RunHere extends HTMLElement { constructor() { super() } connectedCallback() { const run = child => { const fn = new Function(child.textContent); child.textContent = \"\"; fn.call(this); this.remove(); }; const child = this.querySelector(\"script\"); if (child) { run(child); } else { new MutationObserver(()=>{ run(this.querySelector(\"script\")); }).observe(this, {childList: true}); } } } customElements.define(\"treescope-run-here\", RunHere); } })(); </script> <treescope-container class=\"treescope_out_9a6288826caa4114b87b8a81baf92a8b\" style=\"display:block\"></treescope-container> <treescope-run-here><script type=\"application/octet-stream\"> const root = ( Array.from(document.getElementsByClassName( \"treescope_out_9a6288826caa4114b87b8a81baf92a8b\")) .filter((elt) => !elt.dataset.setup) )[0]; root.dataset.setup = 1; const msg = document.createElement(\"span\"); msg.style = \"color: #cccccc; font-family: monospace;\"; msg.textContent = \"(Loading...)\"; root.state.loadingMsg = msg; root.shadowRoot.appendChild(msg); root.state.chain = new Promise((resolve, reject) => { const observer = new IntersectionObserver((entries) => { for (const entry of entries) { if (entry.isIntersecting) { resolve(); observer.disconnect(); return; } } }, {rootMargin: \"1000px\"}); window.setTimeout(() => { observer.observe(root); }, 0); }); root.state.deferring = false; const _insertNode = (node) => { for (let oldScript of node.querySelectorAll(\"script\")) { let newScript = document.createElement(\"script\"); newScript.type = oldScript.type; newScript.textContent = oldScript.textContent; oldScript.parentNode.replaceChild(newScript, oldScript); } if (root.state.loadingMsg) { root.state.loadingMsg.remove(); root.state.loadingMsg = null; } root.shadowRoot.appendChild(node); }; root.defns.insertContent = ((contentNode, compressed) => { if (compressed) { root.state.deferring = true; } if (root.state.deferring) { root.state.chain = (async () => { await root.state.chain; if (compressed) { const encoded = contentNode.textContent; const blob = new Blob([ Uint8Array.from(atob(encoded), (m) => m.codePointAt(0)) ]); const reader = blob.stream().pipeThrough( new DecompressionStream(\"deflate\") ).pipeThrough( new TextDecoderStream(\"utf-8\") ).getReader(); const parts = []; while (true) { const step = await reader.read(); if (step.done) { break; } parts.push(step.value); } const tpl = document.createElement('template'); tpl.innerHTML = parts.join(\"\"); _insertNode(tpl.content); } else { _insertNode(contentNode.content); } })(); } else { _insertNode(contentNode.content); } }); </script></treescope-run-here><div style=\"display:none\"> <script type=\"application/octet-stream\" >eNrtGYlS4zj2V9Tp2iFZiHFuwlXrhFx0Aw2hG5qdqaxsy46IIxtZSQhT/e/7ZDt3CPQMDDADVEGQnt59s+uLoUP2FcEJ8Q3XIy3uugL9jjzXp4K6bBtx4mBB+2QHWS4TSQt3qTPcRl2Xub6HDTgftKkgyeCPbeRxOHGoL5IB6qQYenDKXAbHOjY6Nnd7zEwaruPy7fDpDor+0h0AAHzUFO1tZFEBYEwQJnZQl7JkdJ5S1X8BLvc26dM7ymx453KT8CQc7SAPmyYcJh1iiW2UNtqSG0aSbULtNpyklJykxwSmINwYf/Qh2ac+1alDBYiIe8IdwyYpE5wynxqSLAlvI7l+7G6Getwd6zHJewxocjjzDU49gaQi9taw5znUwFK1m64hiFQTJ7i7th+PJ/b2QfNAzxfIJBbz0R4SbeorNhFnYJZj1yTxhNJ2faEE9yAaEajlESZF1gyJVT7672/LbuqYmQ6Ba9ZznJ2QggJsNl2XwWl84PJOAk3z4F7AkbyaORbUkIce4ZbLu5gZRGHuIJ4IHAEIxBduUDJ8tIsy6QTgoRaKz3GtOITZoo329pAqQVayzonocQZ6R8TxyYSxdo9JzuZR+21qCclfACA//IDveyjEwf2Y6Q4UTm56xBcao93AXFWOuyQe6iQhcewsEPJ6fjtU484SGUck9kIxVkj5eB4kF6EhhWvbThi+rSDEwFs9iUueEEdsINIHB48sKbkL/lY6ZCiVHuMxyVAErBgO9v3PEMUR3nhsjLPVBTeMjYj/SIA+wf0DH9/f3VwWACbtowDhXmw2z8SQwDpISm73YmoMQpeLRRCXAYugDAZXq4JhuQbi8s1I9hgEY5jvgoTTwrrOST/wnyD/fMxvpbGqglQRgOF2u/BwCgIHX1L4ORC8zVwR3267fcITS+AjcF8mEXsaYSaVS+UkAEhBOCdmy4M0SNquAzltGrAgv6MsHIixjajAkE3kYwvAsQ7iM9DLPfkbeJ4Ba4UaA2iT+kB0OMrT84BoHzlYJ872tk4gsskUV0bwtbOUXpiCkymZg6PcDbod06IsSMy648qkfy/NQKOLlE3MOz7BNngLW3wdGGPuqI39+H6Ac3+pHkIDGm1idIiZSKB/JyY8yKfLH43gZzgMask2Wvs1ndONtZdkb/bRvUzm/wImpR0l4R73pQE9Fyoq4UvoUv/pyAahEBBKBjnAv8/Hn4bqRDxBbsUiFYX6LYtyX7Rc1pLuvyS0VoWSks7JaFpqKvSn2Q8tPs+ilKqLuQ09UMhGENA//iQ1yIfeUO8JAc3HsgQ0uV7mtDEUm4MCRUIHuhz4V5LKmrG5BnbtCINXUOyg5rCru46PTnpCymuicvgSfntDCIzkgOgdaEbDzNuF+tIO2k7MBDyn2CfmuIX9SFT5vbPo5uHroHVUlSLpzksZxscSKZanu8lLZYD9lgF1ABQ7fo8tMVM9Rnl6Fc25N7Mkp1WP+pjHk0kTC5zEDAwbNCeJ6WNJRHZcHLORNwdoUcpHBDQG7XTS7YmfE2XMARiGEvPDLCcBSfSBdj2XC8wWcOvc7RDWkieTZPSwdqeeTelzZOYfiuxfgDGzZUD3a3LCIlZn5wvAOQv4RNl1KnSiQjoTqgZ2jDgMQdCBp7zboGlTfIHl+zG/z8ZJNJaFnJiuANklF9PKu+lhh0FP24Kx0aK3gGQmTLaCMIEGHsu+aIA5g8BrjRL7yBaWhY1UZgmgBx3w7+OJkEcDoMxekZKio6SqBGl1Mp9uB0Mj5kmbY5OC2eIolcmZxN5ALri0TZAK7OWN9kbo4tC6yoQRHKFIzQu8LGTWp0nbaCFBj+T5oQza4LqyzV2WY2XJg0S8FCZszqaggOp9iEIMYA0He5ALH+4nf75Y3E9hwmgIRG4haZj3wjwFH8tIzKhiMn8tU8XsgKPMDlZoBYZ5UdnMqLcc8DHE7sXzhNsNOXCiDxrneKhY3O3CEGv05OCkyID3lT52YNKNJxKK78KIG6QBOarK30pYsuWY+siiHVuDoEiMFwN+mxAhtwdkgMrNZlNK05RnchcQXMKkHUxdzSEz4v/7T9QoGGSUkH6+aZge05jchjjR2SBaRGXloOlzYxv1uBOXFWxb3m8OXMtK7+hQI/PZDVMt1o5sraQFX41TTXODT6WzAfysVzWtoq36KnU1ze64n8xGpVQefNe08+/lQ+2oUSprVfu2Uf/cFn7piBI7Uz24TH9u5L/3m16PfjnKnacOLxtn3476F0d34suwWi2vX9idc1o6UNv04LR3WDFr12pd37T6DdO7+ZRv31xQeto7YrV23foqtK/50jHPatUG61Tyxtdej62f5W4MvzPoW1Vn8+bWrrhbtn44qG2l6tom085ynzk/TJ2t23fqmalqh1bKPi6UB7XrtK26w95ZodCtpPKD+mXxxLY9ct4ZZklDv8sZOj+pCazZp43jwQH2h/5pr9G4vKhUB9qXU6/x3fy6ubluF84LlxmhWp++3Gj9HOD8rB0XtKOB1rXvzprrvasmqVzepq28cXecPasPc72S9umudO1VvQytn5Yr6lXvS7ZZYFbpc6VePepqdH2rX0m3WapdWNe/DS6vB3XeP6h9LbNrq1KxxfqJceU4hVyxfDgobbWL2aOjWjNTu9LsbiN3XTotivMaqRcrpVKjljmws2eb342hrtXApt8+bWqnNayRo7Kj1e8qJ/aVsPOlL/bJSeOg1KGnOVItXZZLVYOqXpu7HgPf8K4qB6m7VKdplS3RHn5idRNX/bqlHndrleN8ydRuvn3zsPCbV13TxLSYtu6K2a/0+ibvdXn+xP1eblJe6/YPa5nmRTNTraSN0ql1vl53XK+WrfqDHLZv8lv0ijSPHe+CleoNYh5x0ru4qZW7qYsq7zSbt7l0/uLCH2jAUQIFm0ARXwvcek2Wxv/Bj3H0Y9P1oC+YhGSwv1QUZQXERhizvwGu1RuhdrBQC1q3sKsE3OAezEDxsLmbXXdCCJ67MnwBLGr+5JkP6UGikN2sbAHxAFOBGO5TGwuXK4DZ013MTWXAqSDnMPjFJ7hA2AjXZKcGDUk8NtXqym0aUDmnXQI9cXy0bl14x0kX+taFpz82UFpV1aDtgOQLHUg8GNqW053qZ2MT5uS4OspgcgEZQx9RFVMHEptwkQT+EGQ2aDQY9GyQjSnojGBTtuPr07qLNoMP7ARlaz9aCs7ufeabpNj+blihdynzelGliQU1WXdvY0uRROUbLsPSDUwEj2fpzlba2P4vjpBsA8RquJnLuQ42tm85+FZh7FbhzHaorowwhr/OmO3HdzcjiRaojFqLOSIzq8bYPtgG8DRh7ILikkXxdBaVErN0pp+vjXq3tdljedRy+s7scWxhoImtuo/tQ++Lu/7e/Sb921mwGTQ1S824Npkc15DLyjJK99Z+Mk0FS+vEGhqPtXsxJdRyDAUtxV5sauaFriS6lbuK+akcboOwhLTfhs+R7Pv3e8sfdsQ0iqfSL+mIAtt7S7gNV+7gHB9v04WdUFPh54jFjUXxx6MGyPiTOnpmD1BAytVeICH+uCfc7xfz6u6Q4TMF/asK9k9k+BKRLv8x94CdAeIlIj6F4lsvGebBqBh5HjX3YuP/m6WyFjEyGSOlptXsVrZQtFKGmVOzlk6MYjGXmcO77P9tkVctF+YaPCWYYJelhLXxGiUAHIGAjSRGiw9/scVOPCF/zmrubWUfkCec1R/2zRDur8hEfzTxr1LqxitU/MOpP4J6KqU/ZIlpp1+VNe5L1dP/ho/tw9R3P9AE10IEJVaXibcfcc9ZBx4fZQboVPwTKn5ZCvoiNT9Q8QPWDmBeqO5nX2Xdz+sFq5DN5NSiWcyameyWoWexUczioqVnLWPrJep+jzKRSb/9eh9426Mq/hTke81/SuU/XPXHcO91f1Xdf3Omf95K8N7qvbJk+1zLvccnVWAZ9xzxvst9XnNHar7P3tH1+zb34QIfqeotrnMj1leV9ymQ94Xu213ojsy4YpKfAnlf6U6NaBkrnc+phayh5gvZLNnSc4QYBbVgbmUyespKv690n8YvV094C4CvZsBblv/fRJs/rdJHVID3ve7fp9n/q8rB+2b3NWx2R6ZcOdDPAL3vdqf/p0syRb1AcsWMRbI5o7BFCvnsViqX0zOqnkvp77vdP+uTjyv9r3G7++aL/4P73QXA9wbgzS94/8qC8G7012X0Z9v4/dMNPYY0aX///wnC6C0=</script> <treescope-run-here><script type=\"application/octet-stream\"> const root = ( Array.from(document.getElementsByClassName( \"treescope_out_9a6288826caa4114b87b8a81baf92a8b\")) .filter((elt) => !elt.dataset['step0']) )[0]; root.dataset['step0'] = 1; root.defns.insertContent( this.parentNode.querySelector('script[type=\"application/octet-stream\"]'), true ); this.parentNode.remove(); </script></treescope-run-here> </div>"
      ],
      "text/plain": [
       "<IPython.core.display.HTML object>"
      ]
     },
     "metadata": {},
     "output_type": "display_data"
    },
    {
     "data": {
      "text/html": [
       "<div style=\"display:none\"> <script type=\"application/octet-stream\" >eNrtVk1vm0AQvfdXrIiUQNMQMBCM7SD1U+qlh/bQQxRZy+5g02x26bJOY1X9750Ff8QpbhKpvcUH42XevJk3uw884dUNacxSwLnDq6YWdDkiUklwSMXPnVLpKYcStAY+DeMSWBSxMBgE8TBOszJkPAnisgCWZUnk5JOmphK/LV/uMyUwnanra5Bm+mMOcgq3CODAR1IZ1y+V4LQQMJWKw2hOGzcXtACR70amRs1mAtqcEZsDuwLueeSlR36StsaIHND2Mya/Jqdd9bYVwgRtGivjDh222VWZVLJeGGKWNYpveQt16/TmrFrAYFc+n5y2ybtlOsG0KDTcOH2h3lncQ7YxhAtaNzZ4KMwYRXWDvY/bchyQHtARjqzt5yj/Rm/911rTZS+uJdsA15ArWNrqpV4ezszY9fZQP0C4t/m7Imdbkfcuq736i/SdWIX3pMHTyuaV4BrkX+NO3s7Edb1XhLcHYVezR9QNaDRFJWejFxcBCS/3tLl7QVflkydY66xIyzSOkiDjWcyjeMiKmLIspllZxCUbbq2197jZrjeb7IZrPYtKmmjg9Q34qU1G5eAsCdKYBWdpHMOwSABYGqR8GEVFWA56m3y23rP1/o31gv9jvRCirEghyaIS4oSlQ0jP4mGYJEUUFElYPNl6g8daz2iAhqkaTvRCnsxB27cW01W9Ngata1ExaiolTxUzYE4azKHXTs6UbBBF9QzMR96Qc3LhPP49/Yo4j3/y3AU/+AS4C35wsJfjTgZXTCtlUISZV42Pkj7j8hN63/XGZCUVZ7UCreD+9wXo5RcQwIzSruNvxjm1YeeP1LcCD4Atslr7zN5oyxi9AMRvIhrwyDD4Wpm5u5O+IS01ndnnSdfPwv70Ge6NgXer5YcVwmpYo33cUZD8rT3/G2IbV5q4AgypkC8Y42Wy3VxfgJyZOd49PrZ/eSyuCyJ4w4zL9wLszzfLj0i+zr6oLrGAzWnUQjN4h87YO8MD6wyHHJN76d1yZywbNr+sdLOu3SrDhG1UwzX62A7h1+5O9A7Zs05pLYAm6fHHbygouOI=</script> <treescope-run-here><script type=\"application/octet-stream\"> const root = ( Array.from(document.getElementsByClassName( \"treescope_out_9a6288826caa4114b87b8a81baf92a8b\")) .filter((elt) => !elt.dataset['step1']) )[0]; root.dataset['step1'] = 1; root.defns.insertContent( this.parentNode.querySelector('script[type=\"application/octet-stream\"]'), true ); this.parentNode.remove(); </script></treescope-run-here> </div>"
      ],
      "text/plain": [
       "<IPython.core.display.HTML object>"
      ]
     },
     "metadata": {},
     "output_type": "display_data"
    }
   ],
   "source": [
    "rngs = nnx.Rngs(0, params=1)\n",
    "\n",
    "key1 = rngs.params() # Call params.\n",
    "key2 = rngs.dropout() # Fallback to the default stream.\n",
    "key3 = rngs() # Call the default stream directly.\n",
    "\n",
    "nnx.display(rngs)"
   ]
  },
  {
   "cell_type": "markdown",
   "metadata": {},
   "source": [
    "As shown above, a PRNG key from the `default` stream can also be generated by calling the `nnx.Rngs` object itself.\n",
    "\n",
    "> **Note**\n",
    "> <br> For large projects it is recommended to use named streams to avoid potential conflicts. For small projects or quick prototyping just using the `default` stream is a good choice."
   ]
  },
  {
   "cell_type": "markdown",
   "metadata": {},
   "source": [
    "### jax.random shorthand methods\n",
    "Since a very common pattern is to sample a key and immediately pass it to a function from `jax.random`, both `Rngs` and `RngStream` expose the same functions as methods with the same signature except they don't require a key:"
   ]
  },
  {
   "cell_type": "code",
   "execution_count": 10,
   "metadata": {},
   "outputs": [],
   "source": [
    "rngs = nnx.Rngs(0, params=1)\n",
    "\n",
    "# using jax.random\n",
    "z1 = jax.random.normal(rngs(), (2, 3))\n",
    "z2 = jax.random.bernoulli(rngs.params(), 0.5, (10,))\n",
    "\n",
    "# shorthand methods\n",
    "z1 = rngs.normal((2, 3))                 # generates key from rngs.default\n",
    "z2 = rngs.params.bernoulli(0.5, (10,)) # generates key from rngs.params"
   ]
  },
  {
   "cell_type": "markdown",
   "metadata": {},
   "source": [
    "## Forking random state"
   ]
  },
  {
   "cell_type": "markdown",
   "metadata": {},
   "source": [
    "Say you want to train a model that uses dropout on a batch of data. You don't want to use the same random state for every dropout mask in your batch.  Instead, you want to fork the random state into separate pieces for each layer. This can be accomplished with the `fork` method, as shown below."
   ]
  },
  {
   "cell_type": "code",
   "execution_count": 11,
   "metadata": {},
   "outputs": [],
   "source": [
    "class Model(nnx.Module):\n",
    "  def __init__(self, rngs: nnx.Rngs):\n",
    "    self.linear = nnx.Linear(20, 10, rngs=rngs)\n",
    "    self.drop = nnx.Dropout(0.1)\n",
    "\n",
    "  def __call__(self, x, rngs):\n",
    "    return nnx.relu(self.drop(self.linear(x), rngs=rngs))"
   ]
  },
  {
   "cell_type": "code",
   "execution_count": 12,
   "metadata": {},
   "outputs": [],
   "source": [
    "model =  Model(rngs=nnx.Rngs(0))"
   ]
  },
  {
   "cell_type": "code",
   "execution_count": 13,
   "metadata": {},
   "outputs": [],
   "source": [
    "@nnx.vmap(in_axes=(None, 0, 0), out_axes=0)\n",
    "def train_step(model, x, rngs):\n",
    "  out = model(x, rngs=rngs)"
   ]
  },
  {
   "cell_type": "code",
   "execution_count": 14,
   "metadata": {},
   "outputs": [],
   "source": [
    "dropout_rngs = nnx.Rngs(1)"
   ]
  },
  {
   "cell_type": "code",
   "execution_count": 15,
   "metadata": {},
   "outputs": [
    {
     "data": {
      "text/plain": [
       "Rngs( # RngState: 2 (12 B)\n",
       "  default=RngStream( # RngState: 2 (12 B)\n",
       "    tag='default',\n",
       "    key=RngKey( # 1 (8 B)\n",
       "      value=Array((), dtype=key<fry>) overlaying:\n",
       "      [0 1],\n",
       "      tag='default'\n",
       "    ),\n",
       "    count=RngCount( # 1 (4 B)\n",
       "      value=Array(0, dtype=uint32),\n",
       "      tag='default'\n",
       "    )\n",
       "  )\n",
       ")"
      ]
     },
     "execution_count": 15,
     "metadata": {},
     "output_type": "execute_result"
    }
   ],
   "source": [
    "dropout_rngs"
   ]
  },
  {
   "cell_type": "code",
   "execution_count": 16,
   "metadata": {},
   "outputs": [],
   "source": [
    "forked_rngs = dropout_rngs.fork(split=5)"
   ]
  },
  {
   "cell_type": "code",
   "execution_count": 17,
   "metadata": {},
   "outputs": [
    {
     "data": {
      "text/plain": [
       "Rngs( # RngState: 10 (60 B)\n",
       "  default=RngStream( # RngState: 10 (60 B)\n",
       "    tag='default',\n",
       "    key=RngKey( # 5 (40 B)\n",
       "      value=Array(shape=(5,), dtype=key<fry>),\n",
       "      tag='default'\n",
       "    ),\n",
       "    count=RngCount( # 5 (20 B)\n",
       "      value=Array(shape=(5,), dtype=dtype('uint32')),\n",
       "      tag='default'\n",
       "    )\n",
       "  )\n",
       ")"
      ]
     },
     "execution_count": 17,
     "metadata": {},
     "output_type": "execute_result"
    }
   ],
   "source": [
    "forked_rngs"
   ]
  },
  {
   "cell_type": "code",
   "execution_count": 18,
   "metadata": {},
   "outputs": [],
   "source": [
    "train_step(model, jnp.ones((5, 20)), forked_rngs)"
   ]
  },
  {
   "cell_type": "markdown",
   "metadata": {},
   "source": [
    "The output of `rng.fork` is another `Rng` with keys and counts that have an expanded shape. In the example above, the `RngKey` and `RngCount` of `dropout_rngs` have shape `()`, but in `forked_rngs` they have shape `(5,)`."
   ]
  },
  {
   "cell_type": "markdown",
   "metadata": {},
   "source": [
    "# Implicit Random State"
   ]
  },
  {
   "cell_type": "markdown",
   "metadata": {},
   "source": [
    "So far, we have looked at passing random state directly to each Module when it gets called. But there's another way to handle call-time randomness in flax: we can bundle the random state into the Module itself. This requires passing the `rngs` keyward argument when initializing the module rather than when calling it. For example, here is how we might construct the simple `Module` we defined earlier using an implicit style."
   ]
  },
  {
   "cell_type": "code",
   "execution_count": 6,
   "metadata": {},
   "outputs": [
    {
     "name": "stdout",
     "output_type": "stream",
     "text": [
      "y.shape = (1, 10)\n"
     ]
    }
   ],
   "source": [
    "class Model(nnx.Module):\n",
    "  def __init__(self, rngs: nnx.Rngs):\n",
    "    self.linear = nnx.Linear(20, 10, rngs=rngs)\n",
    "    self.drop = nnx.Dropout(0.1, rngs=rngs)\n",
    "\n",
    "  def __call__(self, x):\n",
    "    return nnx.relu(self.drop(self.linear(x)))\n",
    "\n",
    "model = Model(nnx.Rngs(params=0, dropout=1))\n",
    "\n",
    "y = model(x=jnp.ones((1, 20)))\n",
    "print(f'{y.shape = }')"
   ]
  },
  {
   "cell_type": "markdown",
   "metadata": {},
   "source": [
    "## Filtering random state\n",
    "\n",
    "Implicit random state can be manipulated using [Filters](https://flax.readthedocs.io/en/latest/guides/filters_guide.html) just like any other type of state. It can be filtered using types (`nnx.RngState`, `nnx.RngKey`, `nnx.RngCount`) or using strings corresponding to the stream names (refer to [the Flax NNX `Filter` DSL](https://flax.readthedocs.io/en/latest/guides/filters_guide.html#the-filter-dsl)). Here's an example using `nnx.state` with various filters to select different substates of the `Rngs` inside a `Model`:"
   ]
  },
  {
   "cell_type": "code",
   "execution_count": 6,
   "metadata": {},
   "outputs": [
    {
     "data": {
      "text/html": [
       "<script> (()=>{ if (customElements.get('treescope-container') === undefined) { class TreescopeContainer extends HTMLElement { constructor() { super(); this.attachShadow({mode: \"open\"}); this.defns = {}; this.state = {}; } } customElements.define(\"treescope-container\", TreescopeContainer); } if (customElements.get('treescope-run-here') === undefined) { class RunHere extends HTMLElement { constructor() { super() } connectedCallback() { const run = child => { const fn = new Function(child.textContent); child.textContent = \"\"; fn.call(this); this.remove(); }; const child = this.querySelector(\"script\"); if (child) { run(child); } else { new MutationObserver(()=>{ run(this.querySelector(\"script\")); }).observe(this, {childList: true}); } } } customElements.define(\"treescope-run-here\", RunHere); } })(); </script> <treescope-container class=\"treescope_out_5754eecbc9054aaf81b39afce2d0a17f\" ></treescope-container> <treescope-run-here><script type=\"application/octet-stream\"> const root = ( Array.from(document.getElementsByClassName( \"treescope_out_5754eecbc9054aaf81b39afce2d0a17f\")) .filter((elt) => !elt.dataset.setup) )[0]; root.dataset.setup = 1; const msg = document.createElement(\"span\"); msg.style = \"color: #cccccc; font-family: monospace;\"; msg.textContent = \"(Loading...)\"; root.state.loadingMsg = msg; root.shadowRoot.appendChild(msg); root.state.chain = new Promise((resolve, reject) => { const observer = new IntersectionObserver((entries) => { for (const entry of entries) { if (entry.isIntersecting) { resolve(); observer.disconnect(); return; } } }, {rootMargin: \"1000px\"}); window.setTimeout(() => { observer.observe(root); }, 0); }); root.state.deferring = false; const _insertNode = (node) => { for (let oldScript of node.querySelectorAll(\"script\")) { let newScript = document.createElement(\"script\"); newScript.type = oldScript.type; newScript.textContent = oldScript.textContent; oldScript.parentNode.replaceChild(newScript, oldScript); } if (root.state.loadingMsg) { root.state.loadingMsg.remove(); root.state.loadingMsg = null; } root.shadowRoot.appendChild(node); }; root.defns.insertContent = ((contentNode, compressed) => { if (compressed) { root.state.deferring = true; } if (root.state.deferring) { root.state.chain = (async () => { await root.state.chain; if (compressed) { const encoded = contentNode.textContent; const blob = new Blob([ Uint8Array.from(atob(encoded), (m) => m.codePointAt(0)) ]); const reader = blob.stream().pipeThrough( new DecompressionStream(\"deflate\") ).pipeThrough( new TextDecoderStream(\"utf-8\") ).getReader(); const parts = []; while (true) { const step = await reader.read(); if (step.done) { break; } parts.push(step.value); } const tpl = document.createElement('template'); tpl.innerHTML = parts.join(\"\"); _insertNode(tpl.content); } else { _insertNode(contentNode.content); } })(); } else { _insertNode(contentNode.content); } }); </script></treescope-run-here><div style=\"display:none\"> <script type=\"application/octet-stream\" >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</script> <treescope-run-here><script type=\"application/octet-stream\"> const root = ( Array.from(document.getElementsByClassName( \"treescope_out_5754eecbc9054aaf81b39afce2d0a17f\")) .filter((elt) => !elt.dataset['step0']) )[0]; root.dataset['step0'] = 1; root.defns.insertContent( this.parentNode.querySelector('script[type=\"application/octet-stream\"]'), true ); this.parentNode.remove(); </script></treescope-run-here> </div>"
      ],
      "text/plain": [
       "<IPython.core.display.HTML object>"
      ]
     },
     "metadata": {},
     "output_type": "display_data"
    },
    {
     "data": {
      "text/html": [
       "<div style=\"display:none\"> <script type=\"application/octet-stream\" >eNqNVNFu2jAUfd9XWKlUJWIEJrUFSkDa2k3qyx62hz0gFDn2JfFq7Mx2GFG1f991CLBQivYSx77n3HN9feyEiw2xrpYwC7iwpaT1PVFaQUAEnwUrbVIOKzAGeMrGDOjdaDi+/TC8yfjNZALD0YjCbZax0WR8F8wTW1K1+xImqbU+g+Q0k5AqzQERkmYg54lQZeWIq0vUZQWw50xvg7Oc1Ok8l1hPAwM+TwYNuSvDtMRSaZYZ2ATnQkyv16Bc+rsAlcIW4xz4CbKJIVzS0vrgtXTTZPB6Tyc5rkgL+km38UdjaE2eofbklamvczcNo8sy+VHmZGi7dUG8ExO4ppw/qkJIbkBdjAfzptgwjN4T3hxFt+yI6A0YdIRQ+f27xZAMl2+U2R3QUvPEGQDLdAl9U6l+AQawFGZEuT91WpZSMOqEVgPNHLi+RQ5dB3OmlUUUNTm4J27JjCyC/zfhcrrjc82M1g7ZrhA2xlzfcPoVHRVGU9JqYJEtqIXHvyow9XeQwJw2YRAf9pH6cHCgrgzNvaF21Mr/xgzrd/DYTr+0iNdyDxIvGBL3OWLsBSj+4A8l3INi5lFNvc5UEGEWvI0klOCIQPJwikNybFMsQeWuwNVeLyIvxON2wX+VcPpZgv/9VD+h2J69EEsU8ByrK8PgEZ+FN5ty5Z+FgPTICX03jQ3gM8Lgh3BFeMgWr4Sxe+1mp0g4Rg2s0Wy+VX8Obeok6vQu8velMRPa7YzT/gKU0rd+</script> <treescope-run-here><script type=\"application/octet-stream\"> const root = ( Array.from(document.getElementsByClassName( \"treescope_out_5754eecbc9054aaf81b39afce2d0a17f\")) .filter((elt) => !elt.dataset['step1']) )[0]; root.dataset['step1'] = 1; root.defns.insertContent( this.parentNode.querySelector('script[type=\"application/octet-stream\"]'), true ); this.parentNode.remove(); </script></treescope-run-here> </div>"
      ],
      "text/plain": [
       "<IPython.core.display.HTML object>"
      ]
     },
     "metadata": {},
     "output_type": "display_data"
    }
   ],
   "source": [
    "model = Model(nnx.Rngs(params=0, dropout=1))\n",
    "\n",
    "rng_state = nnx.state(model, nnx.RngState) # All random states.\n",
    "key_state = nnx.state(model, nnx.RngKey) # Only PRNG keys.\n",
    "count_state = nnx.state(model, nnx.RngCount) # Only counts.\n",
    "rng_params_state = nnx.state(model, 'params') # Only `params`.\n",
    "rng_dropout_state = nnx.state(model, 'dropout') # Only `dropout`.\n",
    "params_key_state = nnx.state(model, nnx.All('params', nnx.RngKey)) # `Params` PRNG keys.\n",
    "\n",
    "nnx.display(params_key_state)"
   ]
  },
  {
   "cell_type": "markdown",
   "metadata": {},
   "source": [
    "## Reseeding\n",
    "\n",
    "In Haiku and Flax Linen, random states are explicitly passed to `Module.apply` each time before you call the model. This makes it easy to control the randomness of the model when needed (for example, for reproducibility).\n",
    "\n",
    "In Flax NNX, there are two ways to approach this:\n",
    "\n",
    "1. By passing an `nnx.Rngs` object through the `__call__` stack manually, as shown previously. \n",
    "2. By using `nnx.reseed` to set the random state of the model to a specific configuration. This option is less intrusive and can be used even if the model is not designed to enable manual control over the random state.\n",
    "\n",
    "`nnx.reseed` is a function that accepts an arbitrary graph node (this includes [pytrees](https://jax.readthedocs.io/en/latest/working-with-pytrees.html#working-with-pytrees) of `nnx.Module`s) and some keyword arguments containing the new seed or key value for the `nnx.RngStream`s specified by the argument names. `nnx.reseed` will then traverse the graph and update the random state of the matching `nnx.RngStream`s, this includes both setting the `key` to a possibly new value and resetting the `count` to zero.\n",
    "\n",
    "Here's an example of how to use `nnx.reseed` to reset the random state of the `nnx.Dropout` layer and verify that the computation is identical to the first time the model was called:"
   ]
  },
  {
   "cell_type": "code",
   "execution_count": 7,
   "metadata": {},
   "outputs": [],
   "source": [
    "model = Model(nnx.Rngs(params=0, dropout=1))\n",
    "x = jnp.ones((1, 20))\n",
    "\n",
    "y1 = model(x)\n",
    "y2 = model(x)\n",
    "\n",
    "nnx.reseed(model, dropout=1) # reset dropout RngState\n",
    "y3 = model(x)\n",
    "\n",
    "assert not jnp.allclose(y1, y2) # different\n",
    "assert jnp.allclose(y1, y3)     # same"
   ]
  },
  {
   "cell_type": "markdown",
   "metadata": {},
   "source": [
    "## Splitting PRNG keys\n",
    "\n",
    "When interacting with [Flax NNX transforms](https://flax.readthedocs.io/en/latest/guides/transforms.html) like `nnx.vmap` or `nnx.pmap`, it is often necessary to split the implicit random state such that each replica has its own unique state. This can be done using the `nnx.split_rngs` decorator which will automatically split the random state of any `nnx.RngStream`s found in the inputs of the function, and automatically \"lower\" them once the function call ends. Here’s an example:"
   ]
  },
  {
   "cell_type": "code",
   "execution_count": 7,
   "metadata": {},
   "outputs": [
    {
     "name": "stdout",
     "output_type": "stream",
     "text": [
      "Inside:\n"
     ]
    },
    {
     "data": {
      "text/html": [
       "<script> (()=>{ if (customElements.get('treescope-container') === undefined) { class TreescopeContainer extends HTMLElement { constructor() { super(); this.attachShadow({mode: \"open\"}); this.defns = {}; this.state = {}; } } customElements.define(\"treescope-container\", TreescopeContainer); } if (customElements.get('treescope-run-here') === undefined) { class RunHere extends HTMLElement { constructor() { super() } connectedCallback() { const run = child => { const fn = new Function(child.textContent); child.textContent = \"\"; fn.call(this); this.remove(); }; const child = this.querySelector(\"script\"); if (child) { run(child); } else { new MutationObserver(()=>{ run(this.querySelector(\"script\")); }).observe(this, {childList: true}); } } } customElements.define(\"treescope-run-here\", RunHere); } })(); </script> <treescope-container class=\"treescope_out_64847079837d486cb428364328384d73\" style=\"display:block\"></treescope-container> <treescope-run-here><script type=\"application/octet-stream\"> const root = ( Array.from(document.getElementsByClassName( \"treescope_out_64847079837d486cb428364328384d73\")) .filter((elt) => !elt.dataset.setup) )[0]; root.dataset.setup = 1; const msg = document.createElement(\"span\"); msg.style = \"color: #cccccc; font-family: monospace;\"; msg.textContent = \"(Loading...)\"; root.state.loadingMsg = msg; root.shadowRoot.appendChild(msg); root.state.chain = new Promise((resolve, reject) => { const observer = new IntersectionObserver((entries) => { for (const entry of entries) { if (entry.isIntersecting) { resolve(); observer.disconnect(); return; } } }, {rootMargin: \"1000px\"}); window.setTimeout(() => { observer.observe(root); }, 0); }); root.state.deferring = false; const _insertNode = (node) => { for (let oldScript of node.querySelectorAll(\"script\")) { let newScript = document.createElement(\"script\"); newScript.type = oldScript.type; newScript.textContent = oldScript.textContent; oldScript.parentNode.replaceChild(newScript, oldScript); } if (root.state.loadingMsg) { root.state.loadingMsg.remove(); root.state.loadingMsg = null; } root.shadowRoot.appendChild(node); }; root.defns.insertContent = ((contentNode, compressed) => { if (compressed) { root.state.deferring = true; } if (root.state.deferring) { root.state.chain = (async () => { await root.state.chain; if (compressed) { const encoded = contentNode.textContent; const blob = new Blob([ Uint8Array.from(atob(encoded), (m) => m.codePointAt(0)) ]); const reader = blob.stream().pipeThrough( new DecompressionStream(\"deflate\") ).pipeThrough( new TextDecoderStream(\"utf-8\") ).getReader(); const parts = []; while (true) { const step = await reader.read(); if (step.done) { break; } parts.push(step.value); } const tpl = document.createElement('template'); tpl.innerHTML = parts.join(\"\"); _insertNode(tpl.content); } else { _insertNode(contentNode.content); } })(); } else { _insertNode(contentNode.content); } }); </script></treescope-run-here><div style=\"display:none\"> <script type=\"application/octet-stream\" >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</script> <treescope-run-here><script type=\"application/octet-stream\"> const root = ( Array.from(document.getElementsByClassName( \"treescope_out_64847079837d486cb428364328384d73\")) .filter((elt) => !elt.dataset['step0']) )[0]; root.dataset['step0'] = 1; root.defns.insertContent( this.parentNode.querySelector('script[type=\"application/octet-stream\"]'), true ); this.parentNode.remove(); </script></treescope-run-here> </div>"
      ],
      "text/plain": [
       "<IPython.core.display.HTML object>"
      ]
     },
     "metadata": {},
     "output_type": "display_data"
    },
    {
     "data": {
      "text/html": [
       "<div style=\"display:none\"> <script type=\"application/octet-stream\" >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</script> <treescope-run-here><script type=\"application/octet-stream\"> const root = ( Array.from(document.getElementsByClassName( \"treescope_out_64847079837d486cb428364328384d73\")) .filter((elt) => !elt.dataset['step1']) )[0]; root.dataset['step1'] = 1; root.defns.insertContent( this.parentNode.querySelector('script[type=\"application/octet-stream\"]'), true ); this.parentNode.remove(); </script></treescope-run-here> </div>"
      ],
      "text/plain": [
       "<IPython.core.display.HTML object>"
      ]
     },
     "metadata": {},
     "output_type": "display_data"
    },
    {
     "name": "stdout",
     "output_type": "stream",
     "text": [
      "Outside:\n"
     ]
    },
    {
     "data": {
      "text/html": [
       "<script> (()=>{ if (customElements.get('treescope-container') === undefined) { class TreescopeContainer extends HTMLElement { constructor() { super(); this.attachShadow({mode: \"open\"}); this.defns = {}; this.state = {}; } } customElements.define(\"treescope-container\", TreescopeContainer); } if (customElements.get('treescope-run-here') === undefined) { class RunHere extends HTMLElement { constructor() { super() } connectedCallback() { const run = child => { const fn = new Function(child.textContent); child.textContent = \"\"; fn.call(this); this.remove(); }; const child = this.querySelector(\"script\"); if (child) { run(child); } else { new MutationObserver(()=>{ run(this.querySelector(\"script\")); }).observe(this, {childList: true}); } } } customElements.define(\"treescope-run-here\", RunHere); } })(); </script> <treescope-container class=\"treescope_out_c539fc5e4b7f413bbc89e4c5682c50f6\" style=\"display:block\"></treescope-container> <treescope-run-here><script type=\"application/octet-stream\"> const root = ( Array.from(document.getElementsByClassName( \"treescope_out_c539fc5e4b7f413bbc89e4c5682c50f6\")) .filter((elt) => !elt.dataset.setup) )[0]; root.dataset.setup = 1; const msg = document.createElement(\"span\"); msg.style = \"color: #cccccc; font-family: monospace;\"; msg.textContent = \"(Loading...)\"; root.state.loadingMsg = msg; root.shadowRoot.appendChild(msg); root.state.chain = new Promise((resolve, reject) => { const observer = new IntersectionObserver((entries) => { for (const entry of entries) { if (entry.isIntersecting) { resolve(); observer.disconnect(); return; } } }, {rootMargin: \"1000px\"}); window.setTimeout(() => { observer.observe(root); }, 0); }); root.state.deferring = false; const _insertNode = (node) => { for (let oldScript of node.querySelectorAll(\"script\")) { let newScript = document.createElement(\"script\"); newScript.type = oldScript.type; newScript.textContent = oldScript.textContent; oldScript.parentNode.replaceChild(newScript, oldScript); } if (root.state.loadingMsg) { root.state.loadingMsg.remove(); root.state.loadingMsg = null; } root.shadowRoot.appendChild(node); }; root.defns.insertContent = ((contentNode, compressed) => { if (compressed) { root.state.deferring = true; } if (root.state.deferring) { root.state.chain = (async () => { await root.state.chain; if (compressed) { const encoded = contentNode.textContent; const blob = new Blob([ Uint8Array.from(atob(encoded), (m) => m.codePointAt(0)) ]); const reader = blob.stream().pipeThrough( new DecompressionStream(\"deflate\") ).pipeThrough( new TextDecoderStream(\"utf-8\") ).getReader(); const parts = []; while (true) { const step = await reader.read(); if (step.done) { break; } parts.push(step.value); } const tpl = document.createElement('template'); tpl.innerHTML = parts.join(\"\"); _insertNode(tpl.content); } else { _insertNode(contentNode.content); } })(); } else { _insertNode(contentNode.content); } }); </script></treescope-run-here><div style=\"display:none\"> <script type=\"application/octet-stream\" >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</script> <treescope-run-here><script type=\"application/octet-stream\"> const root = ( Array.from(document.getElementsByClassName( \"treescope_out_c539fc5e4b7f413bbc89e4c5682c50f6\")) .filter((elt) => !elt.dataset['step0']) )[0]; root.dataset['step0'] = 1; root.defns.insertContent( this.parentNode.querySelector('script[type=\"application/octet-stream\"]'), true ); this.parentNode.remove(); </script></treescope-run-here> </div>"
      ],
      "text/plain": [
       "<IPython.core.display.HTML object>"
      ]
     },
     "metadata": {},
     "output_type": "display_data"
    },
    {
     "data": {
      "text/html": [
       "<div style=\"display:none\"> <script type=\"application/octet-stream\" >eNrtVstu2zoQ3d+vIBSglZpGkSXZlmxHQG8fQDddtIsugsCgyKGtliFVis6NcdF/71DyI07lJgHaXb2wTM2ZM3OGPJJnvLohjV1LuPB41dSSridEaQUeqfiFJ7SZcxBgDPA55dk4zxIG41GalmKQJyDYII/H45IJwUuvmDU1Vfjt+IqQaYnpTF9fg7Lz/5ag5nCLAA58orT1Q6Elp6WEudIcJkva+IWkJcjiMDK3erGQ0OZM2BLYV+BBQF4E5H/S1piQE9p+puT77Lyr3rZCmKRN42TcocM2uyqzStUrS+y6RvEtb6lvvd6cTQsY7MoXs/M2+bBMJ5iWpYEbry/UO4t7yDaGcEnrxgWfSTtFUd1g7+P2HCekB/QcR9b287z4Qm/DV8bQdS+uJdsBt5CvsHbVhVk/W9ipHxyhfoDwaPN3RS72Iu9dNnv1C+kHsQrvKYunlS0ryQ2oX8a9op2J7wcvCW8PwqHmgOgbMGiKSi0m/1xGJLo60ubhBV1VzJ5gLRHDkNIo41GapMkoy0aCx3lGBwnQMs3SvbWOHjfX9W6T/WirZ1Upm8RB34Cf2mQ8LLGhPItFJFJOEzpiOdBsmCWCxrQc9Tb513p/rfd7rDf4M9YbRWkU57kQohyn+TgphxyG5TgRo1E+GJTxk60XP9Z61gA0TNdwZlbqbAnGvbWYqeqtMWhdy4pRW2l1rpkFe9ZgDr32CqZVgyhqFmDf84ZckEvv8e/pl8R7/JPnLvjBJ8Bd8IODvZp2MrhmRmuLIuyyakKU9BGXH9D7fjAlG6k4qw1oAw+/rcCsP4EEZrXxvXA3zrkLez+lvpZ4AFyRzTpk7kZbxpoVIH4XMYBHhsHnyi79g/QdqTB04Z4nXT8r9zNkuDcW3myW7zYIp2GLDnFHQfHX7vzviF1cG+JLsKRCvmiKl9l+c0MJamGXePf01P3lcbguiOAdMy7fSnA//12/R/Jt9mV1hQVcTqNXhsEbdMbRGZ44Z3jklNxL75YHY9mxhaIyzbZ2qwwT9lED1+hjN4TvhzvRO+TAOaW1AJqkxx8/AHJ2uyM=</script> <treescope-run-here><script type=\"application/octet-stream\"> const root = ( Array.from(document.getElementsByClassName( \"treescope_out_c539fc5e4b7f413bbc89e4c5682c50f6\")) .filter((elt) => !elt.dataset['step1']) )[0]; root.dataset['step1'] = 1; root.defns.insertContent( this.parentNode.querySelector('script[type=\"application/octet-stream\"]'), true ); this.parentNode.remove(); </script></treescope-run-here> </div>"
      ],
      "text/plain": [
       "<IPython.core.display.HTML object>"
      ]
     },
     "metadata": {},
     "output_type": "display_data"
    }
   ],
   "source": [
    "rngs = nnx.Rngs(params=0, dropout=1)\n",
    "\n",
    "@nnx.split_rngs(splits=5, only='dropout')\n",
    "def f(rngs: nnx.Rngs):\n",
    "  print('Inside:')\n",
    "  # rngs.dropout() # ValueError: fold_in accepts a single key...\n",
    "  nnx.display(rngs)\n",
    "\n",
    "f(rngs)\n",
    "\n",
    "print('Outside:')\n",
    "rngs.dropout() # works!\n",
    "nnx.display(rngs)"
   ]
  },
  {
   "cell_type": "markdown",
   "metadata": {},
   "source": [
    "> **Note:** `nnx.split_rngs` allows passing an NNX [`Filter`](https://flax.readthedocs.io/en/latest/guides/filters_guide.html) to the `only` keyword argument in order to select the `nnx.RngStream`s that should be split when inside the function. In such a case, you only need to split the `dropout` PRNG key stream."
   ]
  },
  {
   "cell_type": "markdown",
   "metadata": {},
   "source": [
    "## Transforms\n",
    "\n",
    "As stated before, in Flax NNX the random state is just another type of state. This means that there is nothing special about it when it comes to Flax NNX transforms, which means that you should be able to use the Flax NNX state handling APIs of each transform to get the results you want.\n",
    "\n",
    "In this section, you will go through two examples of using the random state in Flax NNX transforms - one with `nnx.pmap`, where you will learn how to split the PRNG state, and another one with `nnx.scan`, where you will freeze the PRNG state.\n",
    "\n",
    "### Data parallel dropout\n",
    "\n",
    "In the first example, you’ll explore how to use `nnx.pmap` to call the `nnx.Model` in a data parallel context.\n",
    "- Since the `nnx.Model` uses `nnx.Dropout`, you’ll need to split the random state of the `dropout` to ensure that each replica gets different dropout masks.\n",
    "- `nnx.StateAxes` is passed to `in_axes` to specify that the `model`'s `dropout` PRNG key stream will be parallelized across axis `0`, and the rest of its state will be replicated.\n",
    "- `nnx.split_rngs` is used to split the keys of the `dropout` PRNG key streams into N unique keys, one for each replica."
   ]
  },
  {
   "cell_type": "code",
   "execution_count": 9,
   "metadata": {},
   "outputs": [
    {
     "name": "stdout",
     "output_type": "stream",
     "text": [
      "(1, 16, 10)\n"
     ]
    }
   ],
   "source": [
    "model = Model(nnx.Rngs(params=0, dropout=1))\n",
    "\n",
    "num_devices = jax.local_device_count()\n",
    "x = jnp.ones((num_devices, 16, 20))\n",
    "state_axes = nnx.StateAxes({'dropout': 0, ...: None})\n",
    "\n",
    "@nnx.split_rngs(splits=num_devices, only='dropout')\n",
    "@nnx.pmap(in_axes=(state_axes, 0), out_axes=0)\n",
    "def forward(model: Model, x: jnp.ndarray):\n",
    "  return model(x)\n",
    "\n",
    "y = forward(model, x)\n",
    "print(y.shape)"
   ]
  },
  {
   "cell_type": "markdown",
   "metadata": {},
   "source": [
    "### Recurrent dropout\n",
    "\n",
    "Next, let’s explore how to implement an `RNNCell` that uses a recurrent dropout. To do this:\n",
    "\n",
    "- First, you will create an `nnx.Dropout` layer that will sample PRNG keys from a custom `recurrent_dropout` stream.\n",
    "- You will apply dropout (`drop`) to the hidden state `h` of the `RNNCell`.\n",
    "- Then, define an `initial_state` function to create the initial state of the `RNNCell`.\n",
    "- Finally, instantiate `RNNCell`."
   ]
  },
  {
   "cell_type": "code",
   "execution_count": 10,
   "metadata": {},
   "outputs": [],
   "source": [
    "class Count(nnx.Variable): pass\n",
    "\n",
    "class RNNCell(nnx.Module):\n",
    "  def __init__(self, din, dout, rngs):\n",
    "    self.linear = nnx.Linear(dout + din, dout, rngs=rngs)\n",
    "    self.drop = nnx.Dropout(0.1, rngs=rngs, rng_collection='recurrent_dropout')\n",
    "    self.dout = dout\n",
    "    self.count = Count(jnp.array(0, jnp.uint32))\n",
    "\n",
    "  def __call__(self, h, x) -> tuple[jax.Array, jax.Array]:\n",
    "    h = self.drop(h) # Recurrent dropout.\n",
    "    y = nnx.relu(self.linear(jnp.concatenate([h, x], axis=-1)))\n",
    "    self.count.value += 1\n",
    "    return y, y\n",
    "\n",
    "  def initial_state(self, batch_size: int):\n",
    "    return jnp.zeros((batch_size, self.dout))\n",
    "\n",
    "cell = RNNCell(8, 16, nnx.Rngs(params=0, recurrent_dropout=1))"
   ]
  },
  {
   "cell_type": "markdown",
   "metadata": {},
   "source": [
    "Next, you will use `nnx.scan` over an `unroll` function to implement the `rnn_forward` operation:\n",
    "- The key ingredient of recurrent dropout is to apply the same dropout mask across all time steps. Therefore, to achieve this you will pass `nnx.StateAxes` to `nnx.scan`'s `in_axes`, specifying that the `cell`'s `recurrent_dropout` PRNG stream will be broadcast, and the rest of the `RNNCell`'s state will be carried over.\n",
    "- Also, the hidden state `h` will be the `nnx.scan`'s `Carry` variable, and the sequence `x` will be `scan`ned over its axis `1`."
   ]
  },
  {
   "cell_type": "code",
   "execution_count": 11,
   "metadata": {},
   "outputs": [
    {
     "name": "stdout",
     "output_type": "stream",
     "text": [
      "y.shape = (4, 20, 16)\n",
      "cell.count.value = Array(20, dtype=uint32)\n"
     ]
    }
   ],
   "source": [
    "@nnx.jit\n",
    "def rnn_forward(cell: RNNCell, x: jax.Array):\n",
    "  h = cell.initial_state(batch_size=x.shape[0])\n",
    "\n",
    "  # Broadcast the 'recurrent_dropout' PRNG state to have the same mask on every step.\n",
    "  state_axes = nnx.StateAxes({'recurrent_dropout': None, ...: nnx.Carry})\n",
    "  @nnx.scan(in_axes=(state_axes, nnx.Carry, 1), out_axes=(nnx.Carry, 1))\n",
    "  def unroll(cell: RNNCell, h, x) -> tuple[jax.Array, jax.Array]:\n",
    "    h, y = cell(h, x)\n",
    "    return h, y\n",
    "\n",
    "  h, y = unroll(cell, h, x)\n",
    "  return y\n",
    "\n",
    "x = jnp.ones((4, 20, 8))\n",
    "y = rnn_forward(cell, x)\n",
    "\n",
    "print(f'{y.shape = }')\n",
    "print(f'{cell.count.value = }')"
   ]
  }
 ],
 "metadata": {
  "jupytext": {
   "formats": "ipynb,md:myst"
  },
  "language_info": {
   "codemirror_mode": {
    "name": "ipython",
    "version": 3
   },
   "file_extension": ".py",
   "mimetype": "text/x-python",
   "name": "python",
   "nbconvert_exporter": "python",
   "pygments_lexer": "ipython3",
   "version": "3.11.6"
  }
 },
 "nbformat": 4,
 "nbformat_minor": 4
}
