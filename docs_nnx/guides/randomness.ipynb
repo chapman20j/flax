{
 "cells": [
  {
   "cell_type": "markdown",
   "metadata": {},
   "source": [
    "# Randomness\n",
    "\n",
    "Random state handling in Flax NNX was radically simplified compared to systems like Haiku and Flax Linen because Flax NNX _defines the random state as an object state_. In essence, this means that in Flax NNX, the random state is: 1) just another type of state; 2) stored in `nnx.Variable`s; and 3) held by the models themselves.\n",
    "\n",
    "The Flax NNX [pseudorandom number generator (PRNG)](https://flax.readthedocs.io/en/latest/glossary.html#term-RNG-sequences) system has the following main characteristics:\n",
    "\n",
    "- It is **explicit**.\n",
    "- It is **order-based**.\n",
    "- It uses **dynamic counters**.\n",
    "\n",
    "This is a bit different from [Flax Linen's PRNG system](https://flax.readthedocs.io/en/latest/guides/flax_fundamentals/rng_guide.html), which is `(path + order)`-based, and uses static counters.\n",
    "\n",
    "> **Note:** To learn more about random number generation in JAX, the `jax.random` API, and PRNG-generated sequences, check out this [JAX PRNG tutorial](https://jax.readthedocs.io/en/latest/random-numbers.html).\n",
    "\n",
    "Let’ start with some necessary imports:"
   ]
  },
  {
   "cell_type": "code",
   "execution_count": 1,
   "metadata": {},
   "outputs": [],
   "source": [
    "from flax import nnx\n",
    "import jax\n",
    "from jax import random, numpy as jnp"
   ]
  },
  {
   "cell_type": "markdown",
   "metadata": {},
   "source": [
    "## `Rngs`, `RngStream`, and `RngState`\n",
    "\n",
    "In Flax NNX, the `nnx.Rngs` type is the primary convenience API for managing the random state(s). Following Flax Linen's footsteps, `nnx.Rngs` have the ability to create multiple named PRNG key [streams](https://jax.readthedocs.io/en/latest/jep/263-prng.html), each with its own state, for the purpose of having tight control over randomness in the context of [JAX transformations (transforms)](https://jax.readthedocs.io/en/latest/key-concepts.html#transformations).\n",
    "\n",
    "Here are the main PRNG-related types in Flax NNX:\n",
    "\n",
    "* **`nnx.Rngs`**: The main user interface. It defines a set of named `nnx.RngStream` objects.\n",
    "* **`nnx.RngStream`**: An object that can generate a stream of PRNG keys. It holds a root `key` and a `count` inside an `nnx.RngKey` and `nnx.RngCount` `nnx.Variable`s, respectively. When a new key is generated, the count is incremented.\n",
    "* **`nnx.RngState`**: The base type for all RNG-related states.\n",
    "  * **`nnx.RngKey`**: NNX Variable type for holding PRNG keys. It includes a `tag` attribute containing the name of the PRNG key stream.\n",
    "  * **`nnx.RngCount`**: NNX Variable type for holding PRNG counts. It includes a `tag` attribute containing the PRNG key stream name.\n",
    "\n",
    "To create an `nnx.Rngs` object you can simply pass an integer seed or `jax.random.key` instance to any keyword argument of your choice in the constructor.\n",
    "\n",
    "Here's an example:"
   ]
  },
  {
   "cell_type": "code",
   "execution_count": 2,
   "metadata": {},
   "outputs": [
    {
     "data": {
      "text/html": [
       "<script> (()=>{ if (customElements.get('treescope-container') === undefined) { class TreescopeContainer extends HTMLElement { constructor() { super(); this.attachShadow({mode: \"open\"}); this.defns = {}; this.state = {}; } } customElements.define(\"treescope-container\", TreescopeContainer); } if (customElements.get('treescope-run-here') === undefined) { class RunHere extends HTMLElement { constructor() { super() } connectedCallback() { const run = child => { const fn = new Function(child.textContent); child.textContent = \"\"; fn.call(this); this.remove(); }; const child = this.querySelector(\"script\"); if (child) { run(child); } else { new MutationObserver(()=>{ run(this.querySelector(\"script\")); }).observe(this, {childList: true}); } } } customElements.define(\"treescope-run-here\", RunHere); } })(); </script> <treescope-container class=\"treescope_out_77a5a5837a89438bb2f4d7cdc3a2d467\" style=\"display:block\"></treescope-container> <treescope-run-here><script type=\"application/octet-stream\"> const root = ( Array.from(document.getElementsByClassName( \"treescope_out_77a5a5837a89438bb2f4d7cdc3a2d467\")) .filter((elt) => !elt.dataset.setup) )[0]; root.dataset.setup = 1; const msg = document.createElement(\"span\"); msg.style = \"color: #cccccc; font-family: monospace;\"; msg.textContent = \"(Loading...)\"; root.state.loadingMsg = msg; root.shadowRoot.appendChild(msg); root.state.chain = new Promise((resolve, reject) => { const observer = new IntersectionObserver((entries) => { for (const entry of entries) { if (entry.isIntersecting) { resolve(); observer.disconnect(); return; } } }, {rootMargin: \"1000px\"}); window.setTimeout(() => { observer.observe(root); }, 0); }); root.state.deferring = false; const _insertNode = (node) => { for (let oldScript of node.querySelectorAll(\"script\")) { let newScript = document.createElement(\"script\"); newScript.type = oldScript.type; newScript.textContent = oldScript.textContent; oldScript.parentNode.replaceChild(newScript, oldScript); } if (root.state.loadingMsg) { root.state.loadingMsg.remove(); root.state.loadingMsg = null; } root.shadowRoot.appendChild(node); }; root.defns.insertContent = ((contentNode, compressed) => { if (compressed) { root.state.deferring = true; } if (root.state.deferring) { root.state.chain = (async () => { await root.state.chain; if (compressed) { const encoded = contentNode.textContent; const blob = new Blob([ Uint8Array.from(atob(encoded), (m) => m.codePointAt(0)) ]); const reader = blob.stream().pipeThrough( new DecompressionStream(\"deflate\") ).pipeThrough( new TextDecoderStream(\"utf-8\") ).getReader(); const parts = []; while (true) { const step = await reader.read(); if (step.done) { break; } parts.push(step.value); } const tpl = document.createElement('template'); tpl.innerHTML = parts.join(\"\"); _insertNode(tpl.content); } else { _insertNode(contentNode.content); } })(); } else { _insertNode(contentNode.content); } }); </script></treescope-run-here><div style=\"display:none\"> <script type=\"application/octet-stream\" >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</script> <treescope-run-here><script type=\"application/octet-stream\"> const root = ( Array.from(document.getElementsByClassName( \"treescope_out_77a5a5837a89438bb2f4d7cdc3a2d467\")) .filter((elt) => !elt.dataset['step0']) )[0]; root.dataset['step0'] = 1; root.defns.insertContent( this.parentNode.querySelector('script[type=\"application/octet-stream\"]'), true ); this.parentNode.remove(); </script></treescope-run-here> </div>"
      ],
      "text/plain": [
       "<IPython.core.display.HTML object>"
      ]
     },
     "metadata": {},
     "output_type": "display_data"
    },
    {
     "data": {
      "text/html": [
       "<div style=\"display:none\"> <script type=\"application/octet-stream\" >eNrtVstu2zAQvPcrCAVIpSZRLNmSnxHQJi2QSw/toYcgMChyZathSJWi0xhF/r1LyY8olfMAmlt8sEzt7OzOkiN5wvMbUpqlgBOH52Uh6HJEpJLgkJyfOJnSUw4ZaA182u0MIBgGWZYOaS/LMsqzNOwMh4NBFITdqOskk7KgEr8tX+IzJTCdqetrkGb6ew5yCrcI4MBHUhnXz5TgNBUwlYrDaE5LNxE0BZE0I1OjZjMBVc6IzYFdAfc88sEjf0hVY0T2aPUZk7vJcV29aoUwQcvSyrhHh23WVSa5LBaGmGWB4iveVN06rTmrFjBYl08mx1Vys0wtmKaphhunLdQ6iwfIKoZwQYvSBveFGaOoerAPcVuOPdICeo8jq/p5n/ykt/5HremyFVeRbYBryBUsbfVML/dnZux6O6ifINzZ/H2Rs63IB5fVXj0ivRHL8Z40eFrZPBdcg3w07iTVTFzXOyS8OghNzR5RN6DRFLmcjd5ddEjnckebzQu6Kpm8yFpxRIcQZykPe3GYpkEKg0Ew7AYdGsUR21pr53GzXW822e2s9Sxyabqh1zbglzZJ014YxpRC0I97cRCm/V6vH2dDGgUQd2jc2uSb9d6s93+sF7yS9eIgilLGoRtlPeB9GqXdIQvCOECFfRa8nvWMBiiZKuBIL+TRHLR9azGdF2tj0KIQOaMmV/JYMQPmqMQceu0kTMkSUVTPwJzzkpyQC+f57+lD4jz/yXMf/OQToMH81GAvx7UMrphWyqAIM89LHyV9w+VX9L7rjclKKs5qBVrB/V8L0MvvIIAZpV3H34xzasPOP6mnAg+ALbJa+8zeqMoYvQDEbyIa8Mgw+JGbudtI35Bmms7s86TuZ2F/+gz3xsDZavllhbAa1mgfdxQkP7Xnf0Ns40oTV4AhOfJ1xniZbDfXFyBnZo53Dw7sXx6Lq4MI3jDj8rMA+/PT8hzJ19kX+SUWsDmlWmgGZ+iMnTPcs85wyAF5kF4vG2PZsPlZrst17UoZJmyjGq7Rx3YId82daB2yZ51SWQBN0uKPv02Quac=</script> <treescope-run-here><script type=\"application/octet-stream\"> const root = ( Array.from(document.getElementsByClassName( \"treescope_out_77a5a5837a89438bb2f4d7cdc3a2d467\")) .filter((elt) => !elt.dataset['step1']) )[0]; root.dataset['step1'] = 1; root.defns.insertContent( this.parentNode.querySelector('script[type=\"application/octet-stream\"]'), true ); this.parentNode.remove(); </script></treescope-run-here> </div>"
      ],
      "text/plain": [
       "<IPython.core.display.HTML object>"
      ]
     },
     "metadata": {},
     "output_type": "display_data"
    }
   ],
   "source": [
    "rngs = nnx.Rngs(params=0, dropout=random.key(1))\n",
    "nnx.display(rngs)"
   ]
  },
  {
   "cell_type": "markdown",
   "metadata": {},
   "source": [
    "Notice that the `key` and `count` `nnx.Variable`s contain the PRNG key stream name in a `tag` attribute. This is primarily used for filtering as we'll see later.\n",
    "\n",
    "To generate new keys, you can access one of the streams and use its `__call__` method with no arguments. This will return a new key by using `random.fold_in` with the current `key` and `count`. The `count` is then incremented so that subsequent calls will return new keys."
   ]
  },
  {
   "cell_type": "code",
   "execution_count": 3,
   "metadata": {},
   "outputs": [
    {
     "data": {
      "text/html": [
       "<script> (()=>{ if (customElements.get('treescope-container') === undefined) { class TreescopeContainer extends HTMLElement { constructor() { super(); this.attachShadow({mode: \"open\"}); this.defns = {}; this.state = {}; } } customElements.define(\"treescope-container\", TreescopeContainer); } if (customElements.get('treescope-run-here') === undefined) { class RunHere extends HTMLElement { constructor() { super() } connectedCallback() { const run = child => { const fn = new Function(child.textContent); child.textContent = \"\"; fn.call(this); this.remove(); }; const child = this.querySelector(\"script\"); if (child) { run(child); } else { new MutationObserver(()=>{ run(this.querySelector(\"script\")); }).observe(this, {childList: true}); } } } customElements.define(\"treescope-run-here\", RunHere); } })(); </script> <treescope-container class=\"treescope_out_2cc1572de8d84f6da8dc9fc86227b140\" style=\"display:block\"></treescope-container> <treescope-run-here><script type=\"application/octet-stream\"> const root = ( Array.from(document.getElementsByClassName( \"treescope_out_2cc1572de8d84f6da8dc9fc86227b140\")) .filter((elt) => !elt.dataset.setup) )[0]; root.dataset.setup = 1; const msg = document.createElement(\"span\"); msg.style = \"color: #cccccc; font-family: monospace;\"; msg.textContent = \"(Loading...)\"; root.state.loadingMsg = msg; root.shadowRoot.appendChild(msg); root.state.chain = new Promise((resolve, reject) => { const observer = new IntersectionObserver((entries) => { for (const entry of entries) { if (entry.isIntersecting) { resolve(); observer.disconnect(); return; } } }, {rootMargin: \"1000px\"}); window.setTimeout(() => { observer.observe(root); }, 0); }); root.state.deferring = false; const _insertNode = (node) => { for (let oldScript of node.querySelectorAll(\"script\")) { let newScript = document.createElement(\"script\"); newScript.type = oldScript.type; newScript.textContent = oldScript.textContent; oldScript.parentNode.replaceChild(newScript, oldScript); } if (root.state.loadingMsg) { root.state.loadingMsg.remove(); root.state.loadingMsg = null; } root.shadowRoot.appendChild(node); }; root.defns.insertContent = ((contentNode, compressed) => { if (compressed) { root.state.deferring = true; } if (root.state.deferring) { root.state.chain = (async () => { await root.state.chain; if (compressed) { const encoded = contentNode.textContent; const blob = new Blob([ Uint8Array.from(atob(encoded), (m) => m.codePointAt(0)) ]); const reader = blob.stream().pipeThrough( new DecompressionStream(\"deflate\") ).pipeThrough( new TextDecoderStream(\"utf-8\") ).getReader(); const parts = []; while (true) { const step = await reader.read(); if (step.done) { break; } parts.push(step.value); } const tpl = document.createElement('template'); tpl.innerHTML = parts.join(\"\"); _insertNode(tpl.content); } else { _insertNode(contentNode.content); } })(); } else { _insertNode(contentNode.content); } }); </script></treescope-run-here><div style=\"display:none\"> <script type=\"application/octet-stream\" >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</script> <treescope-run-here><script type=\"application/octet-stream\"> const root = ( Array.from(document.getElementsByClassName( \"treescope_out_2cc1572de8d84f6da8dc9fc86227b140\")) .filter((elt) => !elt.dataset['step0']) )[0]; root.dataset['step0'] = 1; root.defns.insertContent( this.parentNode.querySelector('script[type=\"application/octet-stream\"]'), true ); this.parentNode.remove(); </script></treescope-run-here> </div>"
      ],
      "text/plain": [
       "<IPython.core.display.HTML object>"
      ]
     },
     "metadata": {},
     "output_type": "display_data"
    },
    {
     "data": {
      "text/html": [
       "<div style=\"display:none\"> <script type=\"application/octet-stream\" >eNrtVslu2zAQvfcrCAVopaZRZMvWYjsCugK99NAeeggCgyJHtlqGVCk6jVH03zuUvFfOAjS3+mCZmjdv5g35JE94eUNqsxRw4fCyrgRdjohUEhxS8gunUHrKoQCtgU+jPO73giQKWBAPEj5I8l4/7+dxEuWMQwRONqkrKvHb8mU+UwLTmbq+BmmmP+cgp3CLAA58JJVx/UIJTnMBU6k4jOa0djNBcxDZfmRq1GwmoMkZsTmw78A9j7z0yC/S1BiRE9p8xuT35Lyt3rRCmKB1bWXs0GGbbZVJKauFIWZZofiGN1e3TmfOqgUMtuWzyXmTvF+mFUzzXMON0xXqnMUBsokhXNCqtsHnwoxRVDvYQ9yW44R0gF7gyJp+XmTf6K3/Wmu67MQ1ZBvgGvIdlrZ6oZfPZ2bsekeo7yE82vyuyNlW5MFltVd3SN+LlXhPGjytbF4KrkHeGXeyZiau670ivDkI+5o9om5AoylKORs9uwxIcHWkzf0LuiqbPMJajKUhT4thxGg64CxKk5QGURqyKCmSPuttrXX0uNmuN5vs9tZ6FqU0Yd/rGvBjm+wNkzgI037AeD7o05T2GA0HOY2HRdILIOxs8r/1/lvv31iv9zTWC/gwgCKHmMfDAYRROuQhLcKYxTTM0zB9OusZDVAzVcGZXsizOWj71mK6rNbGoFUlSkZNqeS5YgbMWY059NrJmJI1oqiegfnIa3JBLp2Hv6dfEefhT55d8L1PgF3wvYO9GrcyuGJaKYMizLysfZT0GZef0PuuNyYrqTirFWgF938sQC+/gABmlHYdfzPOqQ07f6W+FXgAbJHV2mf2RlPG6AUgfhPRgEeGwdfSzN299A1poenMPk/afhb2p89wbwy8Wy0/rBBWwxrt446C5G/t+d8Q27jSxBVgSIl8wRgvk+3m+gLkzMzx7ump/ctjcW0QwRtmXL4XYH++WX5E8nX2ZXmFBWxOrRaawTt0xtEZnlhnOOSUHKS3y72xbNj8otT1unajDBO2UQ3X6GM7hN/7O9E5ZM86pbEAmqTDH38A4KW55w==</script> <treescope-run-here><script type=\"application/octet-stream\"> const root = ( Array.from(document.getElementsByClassName( \"treescope_out_2cc1572de8d84f6da8dc9fc86227b140\")) .filter((elt) => !elt.dataset['step1']) )[0]; root.dataset['step1'] = 1; root.defns.insertContent( this.parentNode.querySelector('script[type=\"application/octet-stream\"]'), true ); this.parentNode.remove(); </script></treescope-run-here> </div>"
      ],
      "text/plain": [
       "<IPython.core.display.HTML object>"
      ]
     },
     "metadata": {},
     "output_type": "display_data"
    }
   ],
   "source": [
    "params_key = rngs.params()\n",
    "dropout_key = rngs.dropout()\n",
    "\n",
    "nnx.display(rngs)"
   ]
  },
  {
   "cell_type": "markdown",
   "metadata": {},
   "source": [
    "Note that the `key` attribute does not change when new PRNG keys are generated."
   ]
  },
  {
   "cell_type": "markdown",
   "metadata": {},
   "source": [
    "### Using random state with flax Modules.\n",
    "\n",
    "Almost all flax Modules require a random state for initialization. In a `Linear` layer, for example, we need to sample the weights and biases from the appropriate Normal distribution. Random state is provided using the `rngs` keyword argument at initialization."
   ]
  },
  {
   "cell_type": "code",
   "execution_count": 4,
   "metadata": {},
   "outputs": [],
   "source": [
    "linear = nnx.Linear(20, 10, rngs=rngs)"
   ]
  },
  {
   "cell_type": "markdown",
   "metadata": {},
   "source": [
    "Specifically, this will use the RngSteam `rngs.params` for weight initialization. The `params` stream is also used for initialization of `nnx.Conv`, `nnx.ConvTranspose`, and `nnx.Embed`."
   ]
  },
  {
   "cell_type": "markdown",
   "metadata": {},
   "source": [
    "The `nnx.Dropout` module also requires a random state, but it requires this state at *call* time rather than initialization. Once again, we can pass it random state using the `rngs` keyword argument."
   ]
  },
  {
   "cell_type": "code",
   "execution_count": 5,
   "metadata": {},
   "outputs": [],
   "source": [
    "dropout = nnx.Dropout(0.5)"
   ]
  },
  {
   "cell_type": "code",
   "execution_count": 6,
   "metadata": {},
   "outputs": [
    {
     "data": {
      "text/plain": [
       "Array([2., 0., 2., 2.], dtype=float32)"
      ]
     },
     "execution_count": 6,
     "metadata": {},
     "output_type": "execute_result"
    }
   ],
   "source": [
    "dropout(jnp.ones(4), rngs=rngs)"
   ]
  },
  {
   "cell_type": "markdown",
   "metadata": {},
   "source": [
    "The `nnx.Dropout` layer will use the rng's `dropout` stream. This also applies to Modules that use `Dropout` as a sub-Module, like `nnx.MultiHeadAttention`."
   ]
  },
  {
   "cell_type": "markdown",
   "metadata": {},
   "source": [
    "To summarize, there are only two standard PRNG key stream names used by Flax NNX's built-in layers, shown in the table below:\n",
    "\n",
    "| PRNG key stream name | Description                                   |\n",
    "|----------------------|-----------------------------------------------|\n",
    "| `params`             | Used for parameter initialization             |\n",
    "| `dropout`            | Used by `nnx.Dropout` to create dropout masks |"
   ]
  },
  {
   "cell_type": "markdown",
   "metadata": {},
   "source": [
    "### Default PRNG key stream\n",
    "\n",
    "One of the downsides of having named streams is that the user needs to know all the possible names that a model will use when creating the `nnx.Rngs` object. While this could be solved with some documentation, Flax NNX provides a `default` stream that can be\n",
    "be used as a fallback when a stream is not found. To use the default PRNG key stream, you can simply pass an integer seed or `jax.random.key` as the first positional argument."
   ]
  },
  {
   "cell_type": "code",
   "execution_count": 7,
   "metadata": {},
   "outputs": [
    {
     "data": {
      "text/html": [
       "<script> (()=>{ if (customElements.get('treescope-container') === undefined) { class TreescopeContainer extends HTMLElement { constructor() { super(); this.attachShadow({mode: \"open\"}); this.defns = {}; this.state = {}; } } customElements.define(\"treescope-container\", TreescopeContainer); } if (customElements.get('treescope-run-here') === undefined) { class RunHere extends HTMLElement { constructor() { super() } connectedCallback() { const run = child => { const fn = new Function(child.textContent); child.textContent = \"\"; fn.call(this); this.remove(); }; const child = this.querySelector(\"script\"); if (child) { run(child); } else { new MutationObserver(()=>{ run(this.querySelector(\"script\")); }).observe(this, {childList: true}); } } } customElements.define(\"treescope-run-here\", RunHere); } })(); </script> <treescope-container class=\"treescope_out_c621323ac95640a89a4e600d7bb1f163\" style=\"display:block\"></treescope-container> <treescope-run-here><script type=\"application/octet-stream\"> const root = ( Array.from(document.getElementsByClassName( \"treescope_out_c621323ac95640a89a4e600d7bb1f163\")) .filter((elt) => !elt.dataset.setup) )[0]; root.dataset.setup = 1; const msg = document.createElement(\"span\"); msg.style = \"color: #cccccc; font-family: monospace;\"; msg.textContent = \"(Loading...)\"; root.state.loadingMsg = msg; root.shadowRoot.appendChild(msg); root.state.chain = new Promise((resolve, reject) => { const observer = new IntersectionObserver((entries) => { for (const entry of entries) { if (entry.isIntersecting) { resolve(); observer.disconnect(); return; } } }, {rootMargin: \"1000px\"}); window.setTimeout(() => { observer.observe(root); }, 0); }); root.state.deferring = false; const _insertNode = (node) => { for (let oldScript of node.querySelectorAll(\"script\")) { let newScript = document.createElement(\"script\"); newScript.type = oldScript.type; newScript.textContent = oldScript.textContent; oldScript.parentNode.replaceChild(newScript, oldScript); } if (root.state.loadingMsg) { root.state.loadingMsg.remove(); root.state.loadingMsg = null; } root.shadowRoot.appendChild(node); }; root.defns.insertContent = ((contentNode, compressed) => { if (compressed) { root.state.deferring = true; } if (root.state.deferring) { root.state.chain = (async () => { await root.state.chain; if (compressed) { const encoded = contentNode.textContent; const blob = new Blob([ Uint8Array.from(atob(encoded), (m) => m.codePointAt(0)) ]); const reader = blob.stream().pipeThrough( new DecompressionStream(\"deflate\") ).pipeThrough( new TextDecoderStream(\"utf-8\") ).getReader(); const parts = []; while (true) { const step = await reader.read(); if (step.done) { break; } parts.push(step.value); } const tpl = document.createElement('template'); tpl.innerHTML = parts.join(\"\"); _insertNode(tpl.content); } else { _insertNode(contentNode.content); } })(); } else { _insertNode(contentNode.content); } }); </script></treescope-run-here><div style=\"display:none\"> <script type=\"application/octet-stream\" >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</script> <treescope-run-here><script type=\"application/octet-stream\"> const root = ( Array.from(document.getElementsByClassName( \"treescope_out_c621323ac95640a89a4e600d7bb1f163\")) .filter((elt) => !elt.dataset['step0']) )[0]; root.dataset['step0'] = 1; root.defns.insertContent( this.parentNode.querySelector('script[type=\"application/octet-stream\"]'), true ); this.parentNode.remove(); </script></treescope-run-here> </div>"
      ],
      "text/plain": [
       "<IPython.core.display.HTML object>"
      ]
     },
     "metadata": {},
     "output_type": "display_data"
    },
    {
     "data": {
      "text/html": [
       "<div style=\"display:none\"> <script type=\"application/octet-stream\" >eNrtVk1vm0AQvfdXrIjUQJMQDBj8FaQ2aaVeemgPPUSRtewONs1mly7rNFbV/95Z8Eec4nxI7a0+GC/z5s282X3gCS9vSW2WAs4cXtaVoMsRkUqCQ0p+5hRKTzkUoDXw6TDoJ2lMgzAPhnESpxQ4iwaDOAp4WIRF4GSTuqISvy1f5jMlMJ2pmxuQZvpjDnIKdwjgwEdSGdcvlOA0FzCVisNoTms3EzQHke1GpkbNZgKanBGbA7sG7nnkjUd+kqbGiBzQ5jMmvyanbfWmFcIErWsr4x4dttlWmZSyWhhilhWKb3hzded05qxawGBbPpucNsm7ZVrBNM813Dpdoc5ZPEA2MYQLWtU2+FqYMYpqB/sQt+U4IB2gQxxZ089h9o3e+W+1pstOXEO2Aa4h17C01Qu9fD0zY9fbQ/0E4d7m74ucbUU+uKz26hHpO7ES70mDp5XNS8E1yEfjTtbMxHW9Y8Kbg7Cr2SPqFjSaopSz0avLgPSu9rS5e0FXZZOXWCvsJ8kgicOChTEtEhpHRS/tD3u9MI3TfLC11t7jZrvebLLbW+tZlNJEodc14Jc22ePDqIjToIjSJI5iOqQDlgZ5fxjScFDQpLPJ/9b7b72/Y73g31iPR1EvD5N+OORBHPQp5SzkaRIOIOV5ktIXWy98rvWMBqiZquBEL+TJHLR9azFdVmtj0KoSJaOmVPJUMQPmpMYceuNkTMkaUVTPwHzkNTkjl87z39PHxHn+k+c++MknwH3wk4O9GrcyuGJaKYMizLysfZT0GZef0PuuNyYrqTirFWgF978vQC+/gABmlHYdfzPOqQ07f6SeCzwAtshq7TN7oylj9AIQv4lowCPD4Gtp5u5O+oa00HRmnydtPwv702e4NwYuVssPK4TVsEb7uKMg+bk9/xtiG1eauAIMKZEvGONlst1cX4CcmTnePTqyf3ksrg0ieMOMy/cC7M93y49Ivs6+LK+wgM2p1UIzuEBn7J3hgXWGQ47Ig/R2uTOWDZtflLpe126UYcI2quEGfWyH8Gt3JzqH7FmnNBZAk3T44zeyzrZs</script> <treescope-run-here><script type=\"application/octet-stream\"> const root = ( Array.from(document.getElementsByClassName( \"treescope_out_c621323ac95640a89a4e600d7bb1f163\")) .filter((elt) => !elt.dataset['step1']) )[0]; root.dataset['step1'] = 1; root.defns.insertContent( this.parentNode.querySelector('script[type=\"application/octet-stream\"]'), true ); this.parentNode.remove(); </script></treescope-run-here> </div>"
      ],
      "text/plain": [
       "<IPython.core.display.HTML object>"
      ]
     },
     "metadata": {},
     "output_type": "display_data"
    }
   ],
   "source": [
    "rngs = nnx.Rngs(0, params=1)\n",
    "\n",
    "key1 = rngs.params() # Call params.\n",
    "key2 = rngs.dropout() # Fallback to the default stream.\n",
    "key3 = rngs() # Call the default stream directly.\n",
    "\n",
    "nnx.display(rngs)"
   ]
  },
  {
   "cell_type": "markdown",
   "metadata": {},
   "source": [
    "As shown above, a PRNG key from the `default` stream can also be generated by calling the `nnx.Rngs` object itself.\n",
    "\n",
    "> **Note**\n",
    "> <br> For large projects it is recommended to use named streams to avoid potential conflicts. For small projects or quick prototyping just using the `default` stream is a good choice."
   ]
  },
  {
   "cell_type": "markdown",
   "metadata": {},
   "source": [
    "### jax.random shorthand methods\n",
    "Since a very common pattern is to sample a key and immediately pass it to a function from `jax.random`, both `Rngs` and `RngStream` expose the same functions as methods with the same signature except they don't require a key:"
   ]
  },
  {
   "cell_type": "code",
   "execution_count": 8,
   "metadata": {},
   "outputs": [],
   "source": [
    "rngs = nnx.Rngs(0, params=1)\n",
    "\n",
    "# using jax.random\n",
    "z1 = jax.random.normal(rngs(), (2, 3))\n",
    "z2 = jax.random.bernoulli(rngs.params(), 0.5, (10,))\n",
    "\n",
    "# shorthand methods\n",
    "z1 = rngs.normal((2, 3))                 # generates key from rngs.default\n",
    "z2 = rngs.params.bernoulli(0.5, (10,)) # generates key from rngs.params"
   ]
  },
  {
   "cell_type": "markdown",
   "metadata": {},
   "source": [
    "## Forking random state"
   ]
  },
  {
   "cell_type": "markdown",
   "metadata": {},
   "source": [
    "Say you want to train a model that uses dropout on a batch of data. You don't want to use the same random state for every dropout mask in your batch.  Instead, you want to fork the random state into separate pieces for each layer. This can be accomplished with the `fork` method, as shown below."
   ]
  },
  {
   "cell_type": "code",
   "execution_count": 9,
   "metadata": {},
   "outputs": [],
   "source": [
    "class Model(nnx.Module):\n",
    "  def __init__(self, rngs: nnx.Rngs):\n",
    "    self.linear = nnx.Linear(20, 10, rngs=rngs)\n",
    "    self.drop = nnx.Dropout(0.1)\n",
    "\n",
    "  def __call__(self, x, rngs):\n",
    "    return nnx.relu(self.drop(self.linear(x), rngs=rngs))"
   ]
  },
  {
   "cell_type": "code",
   "execution_count": 10,
   "metadata": {},
   "outputs": [],
   "source": [
    "model =  Model(rngs=nnx.Rngs(0))"
   ]
  },
  {
   "cell_type": "code",
   "execution_count": 11,
   "metadata": {},
   "outputs": [],
   "source": [
    "@nnx.vmap(in_axes=(None, 0, 0), out_axes=0)\n",
    "def model_forward(model, x, rngs):\n",
    "  return model(x, rngs=rngs)"
   ]
  },
  {
   "cell_type": "code",
   "execution_count": 12,
   "metadata": {},
   "outputs": [
    {
     "data": {
      "text/plain": [
       "(Rngs( # RngState: 2 (12 B)\n",
       "   default=RngStream( # RngState: 2 (12 B)\n",
       "     tag='default',\n",
       "     key=RngKey( # 1 (8 B)\n",
       "       value=Array((), dtype=key<fry>) overlaying:\n",
       "       [0 1],\n",
       "       tag='default'\n",
       "     ),\n",
       "     count=RngCount( # 1 (4 B)\n",
       "       value=Array(1, dtype=uint32),\n",
       "       tag='default'\n",
       "     )\n",
       "   )\n",
       " ),\n",
       " Rngs( # RngState: 10 (60 B)\n",
       "   default=RngStream( # RngState: 10 (60 B)\n",
       "     tag='default',\n",
       "     key=RngKey( # 5 (40 B)\n",
       "       value=Array(shape=(5,), dtype=key<fry>),\n",
       "       tag='default'\n",
       "     ),\n",
       "     count=RngCount( # 5 (20 B)\n",
       "       value=Array(shape=(5,), dtype=dtype('uint32')),\n",
       "       tag='default'\n",
       "     )\n",
       "   )\n",
       " ))"
      ]
     },
     "execution_count": 12,
     "metadata": {},
     "output_type": "execute_result"
    }
   ],
   "source": [
    "dropout_rngs = nnx.Rngs(1)\n",
    "forked_rngs = dropout_rngs.fork(split=5)\n",
    "(dropout_rngs, forked_rngs)"
   ]
  },
  {
   "cell_type": "code",
   "execution_count": 13,
   "metadata": {},
   "outputs": [
    {
     "data": {
      "text/plain": [
       "(5, 10)"
      ]
     },
     "execution_count": 13,
     "metadata": {},
     "output_type": "execute_result"
    }
   ],
   "source": [
    "model_forward(model, jnp.ones((5, 20)), forked_rngs).shape"
   ]
  },
  {
   "cell_type": "markdown",
   "metadata": {},
   "source": [
    "The output of `rng.fork` is another `Rng` with keys and counts that have an expanded shape. In the example above, the `RngKey` and `RngCount` of `dropout_rngs` have shape `()`, but in `forked_rngs` they have shape `(5,)`."
   ]
  },
  {
   "cell_type": "markdown",
   "metadata": {},
   "source": [
    "# Implicit Random State"
   ]
  },
  {
   "cell_type": "markdown",
   "metadata": {},
   "source": [
    "So far, we have looked at passing random state directly to each Module when it gets called. But there's another way to handle call-time randomness in flax: we can bundle the random state into the Module itself. This makes the random state is just another type of state: there's nothing special about it when it comes to Flax NNX transforms, which means that you'll be able to use the Flax NNX state handling APIs of each transform to get the results you want.\n",
    "\n",
    "Using implicit random state requires passing the `rngs` keyward argument when initializing the module rather than when calling it. For example, here is how we might construct the simple `Module` we defined earlier using an implicit style."
   ]
  },
  {
   "cell_type": "code",
   "execution_count": 14,
   "metadata": {},
   "outputs": [
    {
     "name": "stdout",
     "output_type": "stream",
     "text": [
      "y.shape = (1, 10)\n"
     ]
    }
   ],
   "source": [
    "class Model(nnx.Module):\n",
    "  def __init__(self, rngs: nnx.Rngs):\n",
    "    self.linear = nnx.Linear(20, 10, rngs=rngs)\n",
    "    self.drop = nnx.Dropout(0.1, rngs=rngs)\n",
    "\n",
    "  def __call__(self, x):\n",
    "    return nnx.relu(self.drop(self.linear(x)))\n",
    "\n",
    "model = Model(nnx.Rngs(params=0, dropout=1))\n",
    "\n",
    "y = model(x=jnp.ones((1, 20)))\n",
    "print(f'{y.shape = }')"
   ]
  },
  {
   "cell_type": "markdown",
   "metadata": {},
   "source": [
    "## Filtering random state\n",
    "\n",
    "Implicit random state can be manipulated using [Filters](https://flax.readthedocs.io/en/latest/guides/filters_guide.html) just like any other type of state. It can be filtered using types (`nnx.RngState`, `nnx.RngKey`, `nnx.RngCount`) or using strings corresponding to the stream names (refer to [the Flax NNX `Filter` DSL](https://flax.readthedocs.io/en/latest/guides/filters_guide.html#the-filter-dsl)). Here's an example using `nnx.state` with various filters to select different substates of the `Rngs` inside a `Model`:"
   ]
  },
  {
   "cell_type": "code",
   "execution_count": 15,
   "metadata": {},
   "outputs": [
    {
     "data": {
      "text/html": [
       "<script> (()=>{ if (customElements.get('treescope-container') === undefined) { class TreescopeContainer extends HTMLElement { constructor() { super(); this.attachShadow({mode: \"open\"}); this.defns = {}; this.state = {}; } } customElements.define(\"treescope-container\", TreescopeContainer); } if (customElements.get('treescope-run-here') === undefined) { class RunHere extends HTMLElement { constructor() { super() } connectedCallback() { const run = child => { const fn = new Function(child.textContent); child.textContent = \"\"; fn.call(this); this.remove(); }; const child = this.querySelector(\"script\"); if (child) { run(child); } else { new MutationObserver(()=>{ run(this.querySelector(\"script\")); }).observe(this, {childList: true}); } } } customElements.define(\"treescope-run-here\", RunHere); } })(); </script> <treescope-container class=\"treescope_out_cdf62902b05a4911871bcb846f415feb\" style=\"display:block\"></treescope-container> <treescope-run-here><script type=\"application/octet-stream\"> const root = ( Array.from(document.getElementsByClassName( \"treescope_out_cdf62902b05a4911871bcb846f415feb\")) .filter((elt) => !elt.dataset.setup) )[0]; root.dataset.setup = 1; const msg = document.createElement(\"span\"); msg.style = \"color: #cccccc; font-family: monospace;\"; msg.textContent = \"(Loading...)\"; root.state.loadingMsg = msg; root.shadowRoot.appendChild(msg); root.state.chain = new Promise((resolve, reject) => { const observer = new IntersectionObserver((entries) => { for (const entry of entries) { if (entry.isIntersecting) { resolve(); observer.disconnect(); return; } } }, {rootMargin: \"1000px\"}); window.setTimeout(() => { observer.observe(root); }, 0); }); root.state.deferring = false; const _insertNode = (node) => { for (let oldScript of node.querySelectorAll(\"script\")) { let newScript = document.createElement(\"script\"); newScript.type = oldScript.type; newScript.textContent = oldScript.textContent; oldScript.parentNode.replaceChild(newScript, oldScript); } if (root.state.loadingMsg) { root.state.loadingMsg.remove(); root.state.loadingMsg = null; } root.shadowRoot.appendChild(node); }; root.defns.insertContent = ((contentNode, compressed) => { if (compressed) { root.state.deferring = true; } if (root.state.deferring) { root.state.chain = (async () => { await root.state.chain; if (compressed) { const encoded = contentNode.textContent; const blob = new Blob([ Uint8Array.from(atob(encoded), (m) => m.codePointAt(0)) ]); const reader = blob.stream().pipeThrough( new DecompressionStream(\"deflate\") ).pipeThrough( new TextDecoderStream(\"utf-8\") ).getReader(); const parts = []; while (true) { const step = await reader.read(); if (step.done) { break; } parts.push(step.value); } const tpl = document.createElement('template'); tpl.innerHTML = parts.join(\"\"); _insertNode(tpl.content); } else { _insertNode(contentNode.content); } })(); } else { _insertNode(contentNode.content); } }); </script></treescope-run-here><div style=\"display:none\"> <script type=\"application/octet-stream\" >eNqtVcGO20YM/ZWBiiZSsZr1ZrFFIdsCcgl6KHpoDjkEhTCWKGmwI44yQ6/tLvzv4Uiyt/Z6jQAtfLBEch4f35DUwtPOQC7JAfjS9lA4a0k8i956TdpiJhwYRfoJ5qK2SGmtOm12megsWt+rku2bVhOkw0smescWoz2lA3RKu56taJHNK1U+Ns6usUpLa6zLxqNzMb2tDAcwnq6ozUSticOQAGkuOo3pZL+bzX5mLLtNvf5HY8PnrKvApWyai15VFRtTAzVl4kPZBjYIaQu6adlyJx9CPiSlubgj/vSQPmmvV9po4hLVmuwxNtVITqPXZUgLo3eqa7+4HXVcHHVM3Ro5p2ObL53uSQQhlu9V3xtdqiDtrS0JgkwOVPc+j+NkmbPynM+TqKBGL5aCWu1lA/QXX8uftoI4ka31JAc/lwYkih4wlPyxDKjh0Ne/L3l+V1gZYDeujZmPGSTT/GwtsjXeWPeYiH9zsF/YFFwnZtJlMPbgaus6hSVItJs4GRqBE8SvPCIdDy3E/YeEcXQt4jPW0gA21IrlUsxCyFXqDmjtkHUXYDy8EGvXGJidQ/tW1xT4DQHhYc+/NzLE3H5Y2Y108G0Nnj6i7obr+uRUB/GoSRIw5q8S9WvfjjLOL9R4SLEcy7hS5Y9zCCzGiyTbNGYc32IYMe7WPmAFCxi6EfDEDT7dZGA3vMtH2AXRIxcFQlOwLI3y/g+e4gk3jo6YRcdtGB2S7xPWk9t/6PF8cXtpACr9JAbAZXS6ZyJBasWVwnYZzSIeXUevQywyRRYD2XVtGC4rEIczh9ojHsZx331bK4OsZcHrqtZbrnxYbuNkz+Rv0HFp3DjKQVVslEO+pMKoFZih24Zt9VNdq/Lu/kJgz8o/HzeRmxZPWEWdcg3vksmUzuRDsL7sxWxYVsqljVOVZs6xuLt/qKC5EdYpbEDMmN6vZXsjiN955zoOGk1iuJMLXKT2Ra2dp8JiEfAztAwsa2sqtWLJkLXMWuXjfCgxP/UUo7DDoaxsoXyEKknELyI0zFTQuG0P9ezlpgUsWCejeg8Vx1Xa90btDl+C/X/NfiWDxlDjkGMIgm3Pg/VmzP/B41KKqdAx4GUiL0lx2vLydNTEFYTzUvFk+C8H/kiyN3HOv3fcgHiY7VOaUf7OUNgMHHE97sR5NphRXhu1lYhb6UnxatIrecAc/z4Hc/y8T65zaa5wOdxelB+heWXl3wHM9kHx</script> <treescope-run-here><script type=\"application/octet-stream\"> const root = ( Array.from(document.getElementsByClassName( \"treescope_out_cdf62902b05a4911871bcb846f415feb\")) .filter((elt) => !elt.dataset['step0']) )[0]; root.dataset['step0'] = 1; root.defns.insertContent( this.parentNode.querySelector('script[type=\"application/octet-stream\"]'), true ); this.parentNode.remove(); </script></treescope-run-here> </div>"
      ],
      "text/plain": [
       "<IPython.core.display.HTML object>"
      ]
     },
     "metadata": {},
     "output_type": "display_data"
    }
   ],
   "source": [
    "model = Model(nnx.Rngs(params=0, dropout=1))\n",
    "\n",
    "rng_state = nnx.state(model, nnx.RngState) # All random states.\n",
    "key_state = nnx.state(model, nnx.RngKey) # Only PRNG keys.\n",
    "count_state = nnx.state(model, nnx.RngCount) # Only counts.\n",
    "rng_params_state = nnx.state(model, 'params') # Only `params`.\n",
    "rng_dropout_state = nnx.state(model, 'dropout') # Only `dropout`.\n",
    "params_key_state = nnx.state(model, nnx.All('params', nnx.RngKey)) # `Params` PRNG keys.\n",
    "\n",
    "nnx.display(params_key_state)"
   ]
  },
  {
   "cell_type": "markdown",
   "metadata": {},
   "source": [
    "## Reseeding\n",
    "\n",
    "In Haiku and Flax Linen, random states are explicitly passed to `Module.apply` each time before you call the model. This makes it easy to control the randomness of the model when needed (for example, for reproducibility).\n",
    "\n",
    "In Flax NNX, there are two ways to approach this:\n",
    "\n",
    "1. By passing an `nnx.Rngs` object through the `__call__` stack manually, as shown previously. \n",
    "2. By using `nnx.reseed` to set the random state of the model to a specific configuration. This option is less intrusive and can be used even if the model is not designed to enable manual control over the random state.\n",
    "\n",
    "`nnx.reseed` is a function that accepts an arbitrary graph node (this includes [pytrees](https://jax.readthedocs.io/en/latest/working-with-pytrees.html#working-with-pytrees) of `nnx.Module`s) and some keyword arguments containing the new seed or key value for the `nnx.RngStream`s specified by the argument names. `nnx.reseed` will then traverse the graph and update the random state of the matching `nnx.RngStream`s, this includes both setting the `key` to a possibly new value and resetting the `count` to zero.\n",
    "\n",
    "Here's an example of how to use `nnx.reseed` to reset the random state of the `nnx.Dropout` layer and verify that the computation is identical to the first time the model was called:"
   ]
  },
  {
   "cell_type": "code",
   "execution_count": 16,
   "metadata": {},
   "outputs": [],
   "source": [
    "model = Model(nnx.Rngs(params=0, dropout=1))\n",
    "x = jnp.ones((1, 20))\n",
    "\n",
    "y1 = model(x)\n",
    "y2 = model(x)\n",
    "\n",
    "nnx.reseed(model, dropout=1) # reset dropout RngState\n",
    "y3 = model(x)\n",
    "\n",
    "assert not jnp.allclose(y1, y2) # different\n",
    "assert jnp.allclose(y1, y3)     # same"
   ]
  },
  {
   "cell_type": "markdown",
   "metadata": {},
   "source": [
    "## Forking implicit random state\n",
    "\n",
    "We saw above how to use `rng.fork` when passing explicit random state through [Flax NNX transforms](https://flax.readthedocs.io/en/latest/guides/transforms.html) like `nnx.vmap` or `nnx.pmap`. The decorator `nnx.fork_rngs` allows this for implicit random state. Consider the example below, which generates a batch of samples from the nondeterministic model we defined above."
   ]
  },
  {
   "cell_type": "code",
   "execution_count": 19,
   "metadata": {},
   "outputs": [
    {
     "name": "stdout",
     "output_type": "stream",
     "text": [
      "(5, 1, 10)\n"
     ]
    }
   ],
   "source": [
    "rng_axes = nnx.StateAxes({'dropout': 0, ...: None})\n",
    "\n",
    "@nnx.fork_rngs(split={'dropout': 5})\n",
    "@nnx.vmap(in_axes=(rng_axes, None), out_axes=0)\n",
    "def sample_from_model(model, x):\n",
    "    return model(x)\n",
    "\n",
    "print(sample_from_model(model, x).shape)"
   ]
  },
  {
   "cell_type": "markdown",
   "metadata": {},
   "source": [
    "Here `sample_from_model` is modified by two decorators:\n",
    "- The function we get from the `nnx.vmap` decorator expects that the random state of the `model` argument has already been split into 5 pieces. It runs the model once for each random key.\n",
    "- The function we get from the `nnx.fork_rngs` decorator splits the random state of its `model` argument into five pieces before passing it on to the inner function."
   ]
  },
  {
   "cell_type": "markdown",
   "metadata": {},
   "source": [
    "## Transforming implicit state"
   ]
  },
  {
   "cell_type": "markdown",
   "metadata": {},
   "source": [
    "In the previous section, we showed how to use `nnx.vmap` with a module that contained implicit random state. But we can use other `nnx` transformations too! For a more involved example, let’s explore how to implement recurrent dropout on an `RNNCell` using `nnx.scan`.\n",
    "\n",
    "We'll start by constructing the `RNNCell` class:\n",
    "\n",
    "- First, create an `nnx.Dropout` layer that will sample PRNG keys from a custom `recurrent_dropout` stream.\n",
    "- Apply dropout (`drop`) to the hidden state `h` of the `RNNCell`.\n",
    "- Then, define an `initial_state` function to create the initial state of the `RNNCell`.\n",
    "- Finally, instantiate `RNNCell`."
   ]
  },
  {
   "cell_type": "code",
   "execution_count": 20,
   "metadata": {},
   "outputs": [],
   "source": [
    "class Count(nnx.Variable): pass\n",
    "\n",
    "class RNNCell(nnx.Module):\n",
    "  def __init__(self, din, dout, rngs):\n",
    "    self.linear = nnx.Linear(dout + din, dout, rngs=rngs)\n",
    "    self.drop = nnx.Dropout(0.1, rngs=rngs, rng_collection='recurrent_dropout')\n",
    "    self.dout = dout\n",
    "    self.count = Count(jnp.array(0, jnp.uint32))\n",
    "\n",
    "  def __call__(self, h, x) -> tuple[jax.Array, jax.Array]:\n",
    "    h = self.drop(h) # Recurrent dropout.\n",
    "    y = nnx.relu(self.linear(jnp.concatenate([h, x], axis=-1)))\n",
    "    self.count.value += 1\n",
    "    return y, y\n",
    "\n",
    "  def initial_state(self, batch_size: int):\n",
    "    return jnp.zeros((batch_size, self.dout))\n",
    "\n",
    "cell = RNNCell(8, 16, nnx.Rngs(params=0, recurrent_dropout=1))"
   ]
  },
  {
   "cell_type": "markdown",
   "metadata": {},
   "source": [
    "Next, use `nnx.scan` over an `unroll` function to implement the `rnn_forward` operation:\n",
    "- The key ingredient of recurrent dropout is to apply the same dropout mask across all time steps. Therefore, to achieve this you will pass `nnx.StateAxes` to `nnx.scan`'s `in_axes`, specifying that the `cell`'s `recurrent_dropout` PRNG stream will be broadcast, and the rest of the `RNNCell`'s state will be carried over.\n",
    "- Also, the hidden state `h` will be the `nnx.scan`'s `Carry` variable, and the sequence `x` will be `scan`ned over its axis `1`."
   ]
  },
  {
   "cell_type": "code",
   "execution_count": 21,
   "metadata": {},
   "outputs": [
    {
     "name": "stdout",
     "output_type": "stream",
     "text": [
      "y.shape = (4, 20, 16)\n",
      "cell.count.value = Array(20, dtype=uint32)\n"
     ]
    }
   ],
   "source": [
    "@nnx.jit\n",
    "def rnn_forward(cell: RNNCell, x: jax.Array):\n",
    "  h = cell.initial_state(batch_size=x.shape[0])\n",
    "\n",
    "  # Broadcast the 'recurrent_dropout' PRNG state to have the same mask on every step.\n",
    "  state_axes = nnx.StateAxes({'recurrent_dropout': None, ...: nnx.Carry})\n",
    "  @nnx.scan(in_axes=(state_axes, nnx.Carry, 1), out_axes=(nnx.Carry, 1))\n",
    "  def unroll(cell: RNNCell, h, x) -> tuple[jax.Array, jax.Array]:\n",
    "    h, y = cell(h, x)\n",
    "    return h, y\n",
    "\n",
    "  h, y = unroll(cell, h, x)\n",
    "  return y\n",
    "\n",
    "x = jnp.ones((4, 20, 8))\n",
    "y = rnn_forward(cell, x)\n",
    "\n",
    "print(f'{y.shape = }')\n",
    "print(f'{cell.count.value = }')"
   ]
  }
 ],
 "metadata": {
  "jupytext": {
   "formats": "ipynb,md:myst"
  },
  "language_info": {
   "codemirror_mode": {
    "name": "ipython",
    "version": 3
   },
   "file_extension": ".py",
   "mimetype": "text/x-python",
   "name": "python",
   "nbconvert_exporter": "python",
   "pygments_lexer": "ipython3",
   "version": "3.11.6"
  }
 },
 "nbformat": 4,
 "nbformat_minor": 4
}
